{
 "cells": [
  {
   "cell_type": "code",
   "execution_count": null,
   "metadata": {},
   "outputs": [],
   "source": [
    "# Question 1: Simple greeting function\n",
    "# Create a function called 'greet' that takes a name as parameter and returns 'Hello, [name]!'"
   ]
  },
  {
   "cell_type": "code",
   "execution_count": null,
   "metadata": {},
   "outputs": [],
   "source": [
    "# Question 2: Calculator function\n",
    "# Create a function that takes two numbers and an operation (+, -, *, /) and returns the result"
   ]
  },
  {
   "cell_type": "code",
   "execution_count": null,
   "metadata": {},
   "outputs": [],
   "source": [
    "# Question 3: Even or odd checker function\n",
    "# Create a function that checks if a number is even or odd and returns True/False"
   ]
  },
  {
   "cell_type": "code",
   "execution_count": null,
   "metadata": {},
   "outputs": [],
   "source": [
    "# Question 4: Maximum of three numbers\n",
    "# Write a function that finds the maximum of three numbers without using max()"
   ]
  },
  {
   "cell_type": "code",
   "execution_count": null,
   "metadata": {},
   "outputs": [],
   "source": [
    "# Question 5: Factorial function\n",
    "# Create a function that calculates the factorial of a number (n!)"
   ]
  },
  {
   "cell_type": "code",
   "execution_count": null,
   "metadata": {},
   "outputs": [],
   "source": [
    "# Question 6: Prime number checker\n",
    "# Write a function that checks if a number is prime"
   ]
  },
  {
   "cell_type": "code",
   "execution_count": null,
   "metadata": {},
   "outputs": [],
   "source": [
    "# Question 7: String reverser\n",
    "# Create a function that reverses a string without using built-in reverse functions"
   ]
  },
  {
   "cell_type": "code",
   "execution_count": null,
   "metadata": {},
   "outputs": [],
   "source": [
    "# Question 8: Palindrome checker\n",
    "# Write a function that checks if a word is a palindrome (reads same forwards and backwards)"
   ]
  },
  {
   "cell_type": "code",
   "execution_count": null,
   "metadata": {},
   "outputs": [],
   "source": [
    "# Question 9: Count vowels in a string\n",
    "# Create a function that counts the number of vowels (a,e,i,o,u) in a string"
   ]
  },
  {
   "cell_type": "code",
   "execution_count": null,
   "metadata": {},
   "outputs": [],
   "source": [
    "# Question 10: Temperature converter\n",
    "# Write functions to convert between Celsius and Fahrenheit"
   ]
  },
  {
   "cell_type": "code",
   "execution_count": null,
   "metadata": {},
   "outputs": [],
   "source": [
    "# Question 11: List sum function\n",
    "# Create a function that calculates the sum of all numbers in a list"
   ]
  },
  {
   "cell_type": "code",
   "execution_count": null,
   "metadata": {},
   "outputs": [],
   "source": [
    "# Question 12: Find largest in list\n",
    "# Write a function that finds the largest number in a list without using max()"
   ]
  },
  {
   "cell_type": "code",
   "execution_count": null,
   "metadata": {},
   "outputs": [],
   "source": [
    "# Question 13: Remove duplicates from list\n",
    "# Create a function that removes duplicates from a list and returns a new list"
   ]
  },
  {
   "cell_type": "code",
   "execution_count": null,
   "metadata": {},
   "outputs": [],
   "source": [
    "# Question 14: Count occurrences\n",
    "# Write a function that counts how many times an element appears in a list"
   ]
  },
  {
   "cell_type": "code",
   "execution_count": null,
   "metadata": {},
   "outputs": [],
   "source": [
    "# Question 15: List intersection\n",
    "# Create a function that finds common elements between two lists"
   ]
  },
  {
   "cell_type": "code",
   "execution_count": null,
   "metadata": {},
   "outputs": [],
   "source": [
    "# Question 16: Fibonacci sequence\n",
    "# Write a function that generates the first n numbers in the Fibonacci sequence"
   ]
  },
  {
   "cell_type": "code",
   "execution_count": null,
   "metadata": {},
   "outputs": [],
   "source": [
    "# Question 17: Password strength checker\n",
    "# Create a function that checks password strength (length, uppercase, lowercase, digits)"
   ]
  },
  {
   "cell_type": "code",
   "execution_count": null,
   "metadata": {},
   "outputs": [],
   "source": [
    "# Question 18: Word frequency counter\n",
    "# Write a function that counts the frequency of each word in a sentence"
   ]
  },
  {
   "cell_type": "code",
   "execution_count": null,
   "metadata": {},
   "outputs": [],
   "source": [
    "# Question 19: List sorter (bubble sort)\n",
    "# Implement a simple bubble sort function to sort a list of numbers"
   ]
  },
  {
   "cell_type": "code",
   "execution_count": null,
   "metadata": {},
   "outputs": [],
   "source": [
    "# Question 20: Binary search\n",
    "# Implement a binary search function to find an element in a sorted list"
   ]
  },
  {
   "cell_type": "code",
   "execution_count": null,
   "metadata": {},
   "outputs": [],
   "source": [
    "# Question 21: Matrix operations\n",
    "# Create functions to add two 2D matrices (lists of lists)"
   ]
  },
  {
   "cell_type": "code",
   "execution_count": null,
   "metadata": {},
   "outputs": [],
   "source": [
    "# Question 22: Anagram checker\n",
    "# Write a function that checks if two words are anagrams of each other"
   ]
  },
  {
   "cell_type": "code",
   "execution_count": null,
   "metadata": {},
   "outputs": [],
   "source": [
    "# Question 23: Recursive power function\n",
    "# Create a recursive function to calculate x^n (x to the power of n)"
   ]
  },
  {
   "cell_type": "code",
   "execution_count": null,
   "metadata": {},
   "outputs": [],
   "source": [
    "# Question 24: List flattener\n",
    "# Write a function that flattens a nested list (list of lists) into a single list"
   ]
  },
  {
   "cell_type": "code",
   "execution_count": null,
   "metadata": {},
   "outputs": [],
   "source": [
    "# Question 25: Grade calculator\n",
    "# Create a function that takes a list of scores and returns the letter grade average"
   ]
  },
  {
   "cell_type": "code",
   "execution_count": null,
   "metadata": {},
   "outputs": [],
   "source": [
    "# Question 26: Shopping cart calculator\n",
    "# Write functions to add items, remove items, and calculate total cost of a shopping cart"
   ]
  },
  {
   "cell_type": "code",
   "execution_count": null,
   "metadata": {},
   "outputs": [],
   "source": [
    "# Question 27: Text analyzer\n",
    "# Create a function that analyzes text: word count, character count, sentence count"
   ]
  },
  {
   "cell_type": "code",
   "execution_count": null,
   "metadata": {},
   "outputs": [],
   "source": [
    "# Question 28: Number base converter\n",
    "# Write a function that converts a number from decimal to binary, octal, or hexadecimal"
   ]
  },
  {
   "cell_type": "code",
   "execution_count": null,
   "metadata": {},
   "outputs": [],
   "source": [
    "# Question 29: Rock Paper Scissors game\n",
    "# Create a complete Rock Paper Scissors game using functions"
   ]
  },
  {
   "cell_type": "code",
   "execution_count": null,
   "metadata": {},
   "outputs": [],
   "source": [
    "# Question 30: Advanced calculator with memory\n",
    "# Build a calculator that can store results in memory and recall them"
   ]
  }
 ],
 "metadata": {
  "kernelspec": {
   "display_name": "Python 3",
   "language": "python",
   "name": "python3"
  },
  "language_info": {
   "codemirror_mode": {
    "name": "ipython",
    "version": 3
   },
   "file_extension": ".py",
   "mimetype": "text/x-python",
   "name": "python",
   "nbconvert_exporter": "python",
   "pygments_lexer": "ipython3",
   "version": "3.13.2"
  }
 },
 "nbformat": 4,
 "nbformat_minor": 2
}
