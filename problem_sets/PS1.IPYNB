{
 "cells": [
  {
   "cell_type": "code",
   "execution_count": 1,
   "metadata": {},
   "outputs": [
    {
     "name": "stdout",
     "output_type": "stream",
     "text": [
      "Your yearly salary is: 72000\n"
     ]
    }
   ],
   "source": [
    "#1\n",
    "monthly_salary = int(input(\"What is your monthly salary? \"))\n",
    "yearly_salary = monthly_salary*12\n",
    "print(\"Your yearly salary is:\", yearly_salary)\n"
   ]
  },
  {
   "cell_type": "code",
   "execution_count": 2,
   "metadata": {},
   "outputs": [
    {
     "name": "stdout",
     "output_type": "stream",
     "text": [
      "85.3846153846154\n"
     ]
    }
   ],
   "source": [
    "#2\n",
    "origin_price=99.90/1.17\n",
    "print(origin_price)\n"
   ]
  },
  {
   "cell_type": "code",
   "execution_count": 3,
   "metadata": {},
   "outputs": [
    {
     "name": "stdout",
     "output_type": "stream",
     "text": [
      "-20\n",
      "300\n"
     ]
    }
   ],
   "source": [
    "#3\n",
    "a = int(input(\"Enter first number: \"))\n",
    "b = int(input(\"Enter second number: \"))\n",
    "minus = a - b\n",
    "duplicate = a * b\n",
    "print(minus)\n",
    "print(duplicate)"
   ]
  },
  {
   "cell_type": "code",
   "execution_count": 4,
   "metadata": {},
   "outputs": [
    {
     "name": "stdout",
     "output_type": "stream",
     "text": [
      "EYAL\n"
     ]
    }
   ],
   "source": [
    "#4\n",
    "private = input(\"first name\")\n",
    "private_upper = private.upper()\n",
    "print(private_upper)"
   ]
  },
  {
   "cell_type": "code",
   "execution_count": 5,
   "metadata": {},
   "outputs": [
    {
     "name": "stdout",
     "output_type": "stream",
     "text": [
      "15\n"
     ]
    }
   ],
   "source": [
    "#5\n",
    "sentence = input(\"Enter a sentence\")\n",
    "# Yes, len() counts all characters including spaces\n",
    "# For example, \"Hello World\" has length 11 (5 + 1 + 5 = 11)\n",
    "print(len(sentence))"
   ]
  },
  {
   "cell_type": "code",
   "execution_count": 6,
   "metadata": {},
   "outputs": [
    {
     "name": "stdout",
     "output_type": "stream",
     "text": [
      "y\n",
      "v\n"
     ]
    }
   ],
   "source": [
    "#6\n",
    "word=input(\"my word\")\n",
    "print(word[0])\n",
    "print(word[-1])"
   ]
  },
  {
   "cell_type": "code",
   "execution_count": 9,
   "metadata": {},
   "outputs": [
    {
     "name": "stdout",
     "output_type": "stream",
     "text": [
      "True\n",
      "True\n",
      "i\n"
     ]
    }
   ],
   "source": [
    "#7\n",
    "string=input(\"my string\")\n",
    "print(string.isalpha())\n",
    "print(string[0].isupper())\n",
    "print(string[0].lower())\n"
   ]
  },
  {
   "cell_type": "code",
   "execution_count": 10,
   "metadata": {},
   "outputs": [
    {
     "name": "stdout",
     "output_type": "stream",
     "text": [
      "['apple', 'orange', 'peach']\n"
     ]
    }
   ],
   "source": [
    "#8\n",
    "fruits = [\n",
    "    input(\"Enter first fruit: \"),\n",
    "    input(\"Enter second fruit: \"),\n",
    "    input(\"Enter third fruit: \")\n",
    "]\n",
    "print(fruits)"
   ]
  },
  {
   "cell_type": "code",
   "execution_count": 11,
   "metadata": {},
   "outputs": [
    {
     "name": "stdout",
     "output_type": "stream",
     "text": [
      "[2, 4, 6, 8, 10]\n"
     ]
    }
   ],
   "source": [
    "#9\n",
    "numbers = [2, 4, 6, 8]\n",
    "numbers.append(10)\n",
    "print(numbers)"
   ]
  },
  {
   "cell_type": "code",
   "execution_count": 12,
   "metadata": {},
   "outputs": [
    {
     "name": "stdout",
     "output_type": "stream",
     "text": [
      "['blue', 'pink', 'yellow']\n"
     ]
    }
   ],
   "source": [
    "#10\n",
    "colors = ['blue', 'red', 'yellow']\n",
    "colors[1] = 'pink'\n",
    "print(colors)"
   ]
  },
  {
   "cell_type": "code",
   "execution_count": 13,
   "metadata": {},
   "outputs": [
    {
     "name": "stdout",
     "output_type": "stream",
     "text": [
      "5\n",
      "Smallest value: 1\n",
      "Biggest value: 9\n",
      "[1, 2, 5, 7, 9]\n",
      "[9, 7, 5, 2, 1]\n"
     ]
    }
   ],
   "source": [
    "#11\n",
    "numbers = [5, 2, 9, 1, 7] \n",
    "print(len(numbers))\n",
    "print(f\"Smallest value: {min(numbers)}\") \n",
    "print(f\"Biggest value: {max(numbers)}\")\n",
    "numbers.sort()      # Sort the list\n",
    "print(numbers)      # Print the sorted list\n",
    "numbers.reverse()   # Reverse the list\n",
    "print(numbers)      # Print the reversed list"
   ]
  },
  {
   "cell_type": "code",
   "execution_count": 14,
   "metadata": {},
   "outputs": [
    {
     "name": "stdout",
     "output_type": "stream",
     "text": [
      "(654316, 473989)\n"
     ]
    }
   ],
   "source": [
    "#12\n",
    "t=(654316,473989)\n",
    "print(t)"
   ]
  },
  {
   "cell_type": "code",
   "execution_count": 15,
   "metadata": {},
   "outputs": [
    {
     "name": "stdout",
     "output_type": "stream",
     "text": [
      "1996\n"
     ]
    }
   ],
   "source": [
    "#13\n",
    "day = int(input(\"Enter day: \")) \n",
    "month = int(input(\"Enter month: \")) \n",
    "year = int(input(\"Enter year: \")) \n",
    "date = (day, month, year)\n",
    "print(date[2])"
   ]
  },
  {
   "cell_type": "code",
   "execution_count": 17,
   "metadata": {},
   "outputs": [
    {
     "name": "stdout",
     "output_type": "stream",
     "text": [
      "8\n"
     ]
    }
   ],
   "source": [
    "#14\n",
    "numbers=(2,4,6)\n",
    "print(numbers[0]+numbers[2])"
   ]
  },
  {
   "cell_type": "code",
   "execution_count": 16,
   "metadata": {},
   "outputs": [
    {
     "name": "stdout",
     "output_type": "stream",
     "text": [
      "(1, 2, 3)\n",
      "(0, 1, 2)\n",
      "(3, 4, 5, 6)\n",
      "(0, 2, 4, 6)\n"
     ]
    }
   ],
   "source": [
    "#15\n",
    "numbers = (0, 1, 2, 3, 4, 5, 6) \n",
    "print(numbers[1:4]) \n",
    "print(numbers[:3]) \n",
    "print(numbers[3:])\n",
    "print(numbers[::2]) "
   ]
  },
  {
   "cell_type": "code",
   "execution_count": 18,
   "metadata": {},
   "outputs": [
    {
     "name": "stdout",
     "output_type": "stream",
     "text": [
      "eyal\n",
      "29\n",
      "yavne\n"
     ]
    }
   ],
   "source": [
    "#16\n",
    "person=('eyal','29','yavne') \n",
    "name=person[0] \n",
    "age=person[1] \n",
    "city=person[2] \n",
    "print(name) \n",
    "print(age) \n",
    "print(city)"
   ]
  },
  {
   "cell_type": "code",
   "execution_count": 19,
   "metadata": {},
   "outputs": [
    {
     "name": "stdout",
     "output_type": "stream",
     "text": [
      "eyal\n"
     ]
    }
   ],
   "source": [
    "#17\n",
    "book = {\n",
    "    \"title\": \"harry potter\",\n",
    "    \"author\": \"eyal\",\n",
    "    \"year\": 1996\n",
    "}\n",
    "print(book[\"author\"])"
   ]
  },
  {
   "cell_type": "code",
   "execution_count": 21,
   "metadata": {},
   "outputs": [
    {
     "name": "stdout",
     "output_type": "stream",
     "text": [
      "{'user': 'eyal', 'email': 'eyalz111@gmail.com'}\n"
     ]
    }
   ],
   "source": [
    "#18\n",
    "user = input(\"name of user: \")\n",
    "email = input(\"email address: \")\n",
    "user_info = {\n",
    "    \"user\": user,\n",
    "    \"email\": email\n",
    "}\n",
    "print(user_info)"
   ]
  },
  {
   "cell_type": "code",
   "execution_count": 22,
   "metadata": {},
   "outputs": [
    {
     "name": "stdout",
     "output_type": "stream",
     "text": [
      "dict_values(['battery', 350])\n"
     ]
    }
   ],
   "source": [
    "#19\n",
    "product = {\n",
    "    \"name\": \"battery\",\n",
    "    \"price\": 300\n",
    "}\n",
    "product[\"price\"] = 350  # Update the price\n",
    "print(product.values())"
   ]
  },
  {
   "cell_type": "code",
   "execution_count": 23,
   "metadata": {},
   "outputs": [
    {
     "name": "stdout",
     "output_type": "stream",
     "text": [
      "3\n"
     ]
    }
   ],
   "source": [
    "#20\n",
    "word1 = input(\"Enter first word: \")\n",
    "word2 = input(\"Enter second word: \")\n",
    "word3 = input(\"Enter third word: \")\n",
    "group = set([word1, word2, word3])\n",
    "print(len(group))"
   ]
  },
  {
   "cell_type": "code",
   "execution_count": 24,
   "metadata": {},
   "outputs": [
    {
     "name": "stdout",
     "output_type": "stream",
     "text": [
      "{1, 2, 3}\n"
     ]
    }
   ],
   "source": [
    "#21\n",
    "values = [1,2,3,3,3]\n",
    "setvalues = set(values)\n",
    "print(setvalues)"
   ]
  }
 ],
 "metadata": {
  "kernelspec": {
   "display_name": "Python 3",
   "language": "python",
   "name": "python3"
  },
  "language_info": {
   "codemirror_mode": {
    "name": "ipython",
    "version": 3
   },
   "file_extension": ".py",
   "mimetype": "text/x-python",
   "name": "python",
   "nbconvert_exporter": "python",
   "pygments_lexer": "ipython3",
   "version": "3.13.2"
  }
 },
 "nbformat": 4,
 "nbformat_minor": 2
}
