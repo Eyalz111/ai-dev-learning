{
 "cells": [
  {
   "cell_type": "markdown",
   "id": "5fb3932b",
   "metadata": {},
   "source": [
    "# PS5: Zoo Animal Management System\n",
    "\n",
    "## Part A: Creating Class Hierarchy\n",
    "\n",
    "### Step 1: Base Animal Class\n"
   ]
  },
  {
   "cell_type": "code",
   "execution_count": 2,
   "id": "33482acb",
   "metadata": {},
   "outputs": [],
   "source": [
    "class Animal:\n",
    "    \"\"\"Base Animal class with basic attributes and methods\"\"\"\n",
    "    \n",
    "    def __init__(self, name, species, age):\n",
    "        \"\"\"\n",
    "        Initialize an Animal with basic attributes\n",
    "        \n",
    "        Args:\n",
    "            name (str): The animal's name\n",
    "            species (str): The animal's species\n",
    "            age (int): The animal's age\n",
    "        \"\"\"\n",
    "        self.name = name\n",
    "        self.species = species\n",
    "        self.age = age\n",
    "    \n",
    "    def describe(self):\n",
    "        \"\"\"Return a formatted string with the animal's details\"\"\"\n",
    "        return f\"Name: {self.name}, Species: {self.species}, Age: {self.age}\"\n",
    "    \n",
    "    def make_sound(self):\n",
    "        \"\"\"Generic method for making sound - to be overridden by subclasses\"\"\"\n",
    "        return \"The animal makes a sound\"\n"
   ]
  },
  {
   "cell_type": "code",
   "execution_count": 3,
   "id": "0015eb82",
   "metadata": {},
   "outputs": [
    {
     "name": "stdout",
     "output_type": "stream",
     "text": [
      "Name: Leo, Species: Lion, Age: 5\n",
      "The animal makes a sound\n"
     ]
    }
   ],
   "source": [
    "# Test the Animal class\n",
    "animal1 = Animal(\"Leo\", \"Lion\", 5)\n",
    "print(animal1.describe())\n",
    "print(animal1.make_sound())\n"
   ]
  },
  {
   "cell_type": "markdown",
   "id": "c842caf0",
   "metadata": {},
   "source": [
    "### Step 2: Bird Class (Inheritance)\n"
   ]
  },
  {
   "cell_type": "code",
   "execution_count": 4,
   "id": "bd28bbfc",
   "metadata": {},
   "outputs": [],
   "source": [
    "class Bird(Animal):\n",
    "    \"\"\"Bird class inheriting from Animal with additional wing-related features\"\"\"\n",
    "    \n",
    "    def __init__(self, name, species, age, wing_span):\n",
    "        \"\"\"\n",
    "        Initialize a Bird with all Animal attributes plus wing_span\n",
    "        \n",
    "        Args:\n",
    "            name (str): The bird's name\n",
    "            species (str): The bird's species\n",
    "            age (int): The bird's age\n",
    "            wing_span (int): Wing span from tip to tip in centimeters\n",
    "        \"\"\"\n",
    "        super().__init__(name, species, age)  # Call parent constructor\n",
    "        self.wing_span = wing_span\n",
    "    \n",
    "    def describe_wings(self):\n",
    "        \"\"\"Return a formatted string describing the bird's wings\"\"\"\n",
    "        return f\"{self.name} has a wing span of {self.wing_span} cm\"\n",
    "    \n",
    "    def make_sound(self):\n",
    "        \"\"\"Override the generic sound method for birds\"\"\"\n",
    "        return f\"{self.name} chirps and sings beautifully!\"\n"
   ]
  },
  {
   "cell_type": "code",
   "execution_count": 6,
   "id": "c3fb2e4c",
   "metadata": {},
   "outputs": [
    {
     "name": "stdout",
     "output_type": "stream",
     "text": [
      "Name: Tweety, Species: Canary, Age: 2\n",
      "Tweety has a wing span of 15 cm\n",
      "Tweety chirps and sings beautifully!\n",
      "Name: Polly, Species: Parrot, Age: 4\n",
      "Polly has a wing span of 45 cm\n",
      "Polly chirps and sings beautifully!\n",
      "Name: Tweety, Species: Eagle, Age: 2\n",
      "Tweety has a wing span of 15 cm\n",
      "Tweety chirps and sings beautifully!\n"
     ]
    }
   ],
   "source": [
    "# Test the Bird class\n",
    "bird1 = Bird(\"Tweety\", \"Canary\", 2, 15)\n",
    "print(bird1.describe())  # Inherited method\n",
    "print(bird1.describe_wings())  # New method\n",
    "print(bird1.make_sound())  # Overridden method\n",
    "\n",
    "bird2 = Bird(\"Polly\", \"Parrot\", 4, 45)\n",
    "print(bird2.describe())  # Inherited method\n",
    "print(bird2.describe_wings())  # New method\n",
    "print(bird2.make_sound())  # Overridden method\n",
    "\n",
    "bird3 = Bird(\"Tweety\", \"Eagle\", 2, 15)\n",
    "print(bird3.describe())  # Inherited method\n",
    "print(bird3.describe_wings())  # New method\n",
    "print(bird3.make_sound())  # Overridden method\n"
   ]
  },
  {
   "cell_type": "markdown",
   "id": "5b1d313c",
   "metadata": {},
   "source": [
    "### Step 3: Caretaker Class\n"
   ]
  },
  {
   "cell_type": "code",
   "execution_count": 7,
   "id": "656cfda5",
   "metadata": {},
   "outputs": [],
   "source": [
    "class Caretaker:\n",
    "    \"\"\"Caretaker class representing a person who takes care of animals\"\"\"\n",
    "    \n",
    "    def __init__(self, name, experience_years):\n",
    "        \"\"\"\n",
    "        Initialize a Caretaker\n",
    "        \n",
    "        Args:\n",
    "            name (str): The caretaker's name\n",
    "            experience_years (int): Number of years of experience\n",
    "        \"\"\"\n",
    "        self.name = name\n",
    "        self.experience_years = experience_years\n",
    "    \n",
    "    def describe(self):\n",
    "        \"\"\"Return a formatted string with the caretaker's details\"\"\"\n",
    "        return f\"Caretaker: {self.name}, Experience: {self.experience_years} years\"\n"
   ]
  },
  {
   "cell_type": "code",
   "execution_count": 8,
   "id": "f618a55a",
   "metadata": {},
   "outputs": [
    {
     "name": "stdout",
     "output_type": "stream",
     "text": [
      "Caretaker: Sarah Johnson, Experience: 8 years\n",
      "Caretaker: Mike Wilson, Experience: 12 years\n"
     ]
    }
   ],
   "source": [
    "# Test the Caretaker class\n",
    "caretaker1 = Caretaker(\"Sarah Johnson\", 8)\n",
    "print(caretaker1.describe())\n",
    "\n",
    "caretaker2 = Caretaker(\"Mike Wilson\", 12)\n",
    "print(caretaker2.describe())\n"
   ]
  },
  {
   "cell_type": "markdown",
   "id": "ff1b3a5e",
   "metadata": {},
   "source": [
    "### Step 4: Composition - Adding Caretaker to Bird\n",
    "\n",
    "## Part B: Composition - Class within Class\n"
   ]
  },
  {
   "cell_type": "code",
   "execution_count": 9,
   "id": "802c939b",
   "metadata": {},
   "outputs": [],
   "source": [
    "# Updated Bird class with Caretaker composition\n",
    "class Bird(Animal):\n",
    "    \"\"\"Bird class inheriting from Animal with additional wing-related features and caretaker\"\"\"\n",
    "    \n",
    "    def __init__(self, name, species, age, wing_span, caretaker):\n",
    "        \"\"\"\n",
    "        Initialize a Bird with all Animal attributes plus wing_span and caretaker\n",
    "        \n",
    "        Args:\n",
    "            name (str): The bird's name\n",
    "            species (str): The bird's species\n",
    "            age (int): The bird's age\n",
    "            wing_span (int): Wing span from tip to tip in centimeters\n",
    "            caretaker (Caretaker): The caretaker object responsible for this bird\n",
    "        \"\"\"\n",
    "        super().__init__(name, species, age)  # Call parent constructor\n",
    "        self.wing_span = wing_span\n",
    "        self.caretaker = caretaker  # Composition: Bird HAS-A Caretaker\n",
    "    \n",
    "    def describe_wings(self):\n",
    "        \"\"\"Return a formatted string describing the bird's wings\"\"\"\n",
    "        return f\"{self.name} has a wing span of {self.wing_span} cm\"\n",
    "    \n",
    "    def make_sound(self):\n",
    "        \"\"\"Override the generic sound method for birds\"\"\"\n",
    "        return f\"{self.name} chirps and sings beautifully!\"\n",
    "    \n",
    "    def describe_with_caretaker(self):\n",
    "        \"\"\"Return a description including both bird and caretaker information\"\"\"\n",
    "        bird_info = self.describe()\n",
    "        caretaker_info = self.caretaker.describe()\n",
    "        return f\"{bird_info}\\n{caretaker_info}\"\n"
   ]
  },
  {
   "cell_type": "code",
   "execution_count": 10,
   "id": "2d03a23a",
   "metadata": {},
   "outputs": [
    {
     "name": "stdout",
     "output_type": "stream",
     "text": [
      "=== Bird with Caretaker Demo ===\n",
      "Name: Polly, Species: Parrot, Age: 4\n",
      "Polly has a wing span of 45 cm\n",
      "Polly chirps and sings beautifully!\n",
      "\n",
      "=== Combined Description ===\n",
      "Name: Polly, Species: Parrot, Age: 4\n",
      "Caretaker: Mike Wilson, Experience: 12 years\n"
     ]
    }
   ],
   "source": [
    "# Test the updated Bird class with Caretaker composition\n",
    "caretaker2 = Caretaker(\"Mike Wilson\", 12)\n",
    "bird2 = Bird(\"Polly\", \"Parrot\", 4, 45, caretaker2)\n",
    "\n",
    "print(\"=== Bird with Caretaker Demo ===\")\n",
    "print(bird2.describe())\n",
    "print(bird2.describe_wings())\n",
    "print(bird2.make_sound())\n",
    "print(\"\\n=== Combined Description ===\")\n",
    "print(bird2.describe_with_caretaker())\n"
   ]
  }
 ],
 "metadata": {
  "kernelspec": {
   "display_name": "Python 3",
   "language": "python",
   "name": "python3"
  },
  "language_info": {
   "codemirror_mode": {
    "name": "ipython",
    "version": 3
   },
   "file_extension": ".py",
   "mimetype": "text/x-python",
   "name": "python",
   "nbconvert_exporter": "python",
   "pygments_lexer": "ipython3",
   "version": "3.13.2"
  }
 },
 "nbformat": 4,
 "nbformat_minor": 5
}
