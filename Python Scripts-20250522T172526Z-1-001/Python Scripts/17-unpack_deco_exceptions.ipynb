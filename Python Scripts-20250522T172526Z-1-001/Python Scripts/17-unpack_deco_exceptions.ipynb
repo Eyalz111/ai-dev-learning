{
 "cells": [
  {
   "cell_type": "markdown",
   "metadata": {},
   "source": [
    "# Unpacking Operator in Python\n"
   ]
  },
  {
   "cell_type": "code",
   "execution_count": 1,
   "metadata": {},
   "outputs": [
    {
     "name": "stdout",
     "output_type": "stream",
     "text": [
      "1 2 3\n"
     ]
    }
   ],
   "source": [
    "lst = [1,2,3]\n",
    "\n",
    "print(*lst)"
   ]
  },
  {
   "cell_type": "code",
   "execution_count": null,
   "metadata": {},
   "outputs": [],
   "source": []
  },
  {
   "cell_type": "code",
   "execution_count": 4,
   "metadata": {},
   "outputs": [],
   "source": [
    "dict = {\"name\":15}"
   ]
  },
  {
   "cell_type": "code",
   "execution_count": 5,
   "metadata": {},
   "outputs": [
    {
     "data": {
      "text/plain": [
       "'jonathan'"
      ]
     },
     "execution_count": 5,
     "metadata": {},
     "output_type": "execute_result"
    }
   ],
   "source": [
    "dict[\"name\"] = dict.get(\"name\",0) + 1"
   ]
  },
  {
   "cell_type": "code",
   "execution_count": null,
   "metadata": {},
   "outputs": [],
   "source": []
  },
  {
   "cell_type": "code",
   "execution_count": null,
   "metadata": {},
   "outputs": [],
   "source": [
    "# 1. Using * to Unpack Iterables\n",
    "numbers = [1, 2, 3]\n",
    "print(*numbers)  # Output: 1 2 3"
   ]
  },
  {
   "cell_type": "code",
   "execution_count": null,
   "metadata": {},
   "outputs": [],
   "source": [
    "# 2. Unpacking in Function Arguments\n",
    "def add(a, b, c):\n",
    "    return a + b + c\n",
    "values = [2, 3, 4]\n",
    "print(add(*values))  # Output: 9"
   ]
  },
  {
   "cell_type": "code",
   "execution_count": null,
   "metadata": {},
   "outputs": [],
   "source": [
    "# 3. Merging Lists Using *\n",
    "list1 = [1, 2, 3]\n",
    "list2 = [4, 5, 6]\n",
    "merged_list = [*list1, *list2]\n",
    "print(merged_list)  # Output: [1, 2, 3, 4, 5, 6]\n"
   ]
  },
  {
   "cell_type": "markdown",
   "metadata": {},
   "source": [
    "# Decorators\n"
   ]
  },
  {
   "cell_type": "code",
   "execution_count": 6,
   "metadata": {},
   "outputs": [
    {
     "name": "stdout",
     "output_type": "stream",
     "text": [
      "Start\n",
      "Hello\n",
      "End\n"
     ]
    }
   ],
   "source": [
    "# 4. Basic Decorator Example\n",
    "def simple_decorator(func):\n",
    "    def wrapper():\n",
    "        print(\"Start\")\n",
    "        func()\n",
    "        print(\"End\")\n",
    "    return wrapper\n",
    "\n",
    "@simple_decorator\n",
    "def greet():\n",
    "    print(\"Hello\")\n",
    "\n",
    "greet()  # Output: Start -> Hello -> End"
   ]
  },
  {
   "cell_type": "code",
   "execution_count": null,
   "metadata": {},
   "outputs": [],
   "source": [
    "# 5. Higher-Order Functions\n",
    "def apply(func):\n",
    "    return func()\n",
    "\n",
    "def say_hello():\n",
    "    return \"Hello!\"\n",
    "\n",
    "print(apply(say_hello))  # Output: Hello!\n"
   ]
  },
  {
   "cell_type": "markdown",
   "metadata": {},
   "source": [
    "# Error Handling\n"
   ]
  },
  {
   "cell_type": "code",
   "execution_count": null,
   "metadata": {},
   "outputs": [],
   "source": [
    "# 6. Exceptions\n",
    "try:\n",
    "    x = 10 / 0  # Raises ZeroDivisionError\n",
    "except ZeroDivisionError:\n",
    "    print(\"Cannot divide by zero!\")"
   ]
  },
  {
   "cell_type": "code",
   "execution_count": null,
   "metadata": {},
   "outputs": [],
   "source": [
    "# 7. Handling Multiple Exceptions\n",
    "try:\n",
    "    num = int(\"abc\")  # Raises ValueError\n",
    "except ValueError:\n",
    "    print(\"Invalid number!\")\n",
    "except TypeError:\n",
    "    print(\"Type mismatch error!\")"
   ]
  },
  {
   "cell_type": "code",
   "execution_count": null,
   "metadata": {},
   "outputs": [],
   "source": [
    "# 8. Handling Multiple Exceptions in One Block\n",
    "try:\n",
    "    x = 10 / 0\n",
    "except (ZeroDivisionError, ValueError):\n",
    "    print(\"An error occurred!\")\n"
   ]
  },
  {
   "cell_type": "code",
   "execution_count": 10,
   "metadata": {},
   "outputs": [
    {
     "name": "stdout",
     "output_type": "stream",
     "text": [
      "Error!\n",
      "This will always run.\n"
     ]
    }
   ],
   "source": [
    "# 9. Using finally block\n",
    "try:\n",
    "    x = 10 / 0  # Raises ZeroDivisionError\n",
    "except ZeroDivisionError:\n",
    "    print(\"Error!\")\n",
    "finally:\n",
    "    print(\"This will always run.\")"
   ]
  },
  {
   "cell_type": "code",
   "execution_count": 8,
   "metadata": {},
   "outputs": [
    {
     "name": "stdout",
     "output_type": "stream",
     "text": [
      "<class 'ValueError'>\n"
     ]
    }
   ],
   "source": [
    "# 10. Raising Exceptions\n",
    "def check_age(age):\n",
    "    if age < 18:\n",
    "        raise ValueError(\"Age must be 18 or older\")\n",
    "\n",
    "try:\n",
    "    check_age(16)\n",
    "except ValueError as e:\n",
    "    print(e)  # Output: ValueError: Age must be 18 or older"
   ]
  },
  {
   "cell_type": "code",
   "execution_count": null,
   "metadata": {},
   "outputs": [],
   "source": [
    "# Summary Questions:\n",
    "print(\"\\n--- Summary Questions ---\")\n",
    "print(\"1. What is the purpose of the unpacking operator (*) in Python, and in what contexts can it be used?\")\n",
    "print(\"2. What is the role of the finally block in exception handling?\")\n"
   ]
  },
  {
   "cell_type": "code",
   "execution_count": null,
   "metadata": {},
   "outputs": [],
   "source": [
    "# Coding Tasks:\n",
    "print(\"\\n--- Coding Tasks ---\")\n",
    "print(\"1. Write a Python function that uses a decorator to log the execution time of a function.\")\n",
    "print(\"2. Write a function that takes a number as input and raises an exception if the number is negative.\")\n"
   ]
  },
  {
   "cell_type": "code",
   "execution_count": 13,
   "metadata": {},
   "outputs": [],
   "source": [
    "def print_args(func):\n",
    "    def wrapper(a,b):\n",
    "        print(f\"a is {a} and b is {b}\")\n",
    "        return func(a,b)\n",
    "    return wrapper\n",
    "\n",
    "@print_args\n",
    "def divide(a,b):\n",
    "    if b == 0:\n",
    "        raise ValueError(\"Cannot divide by zero\")\n",
    "    return a / b\n",
    "\n",
    "\n"
   ]
  },
  {
   "cell_type": "code",
   "execution_count": 14,
   "metadata": {},
   "outputs": [
    {
     "name": "stdout",
     "output_type": "stream",
     "text": [
      "a is 2 and b is 5\n"
     ]
    },
    {
     "data": {
      "text/plain": [
       "0.4"
      ]
     },
     "execution_count": 14,
     "metadata": {},
     "output_type": "execute_result"
    }
   ],
   "source": [
    "divide(2,5)"
   ]
  },
  {
   "cell_type": "code",
   "execution_count": 17,
   "metadata": {},
   "outputs": [
    {
     "name": "stdout",
     "output_type": "stream",
     "text": [
      "(10, 2) (5, 0) (9, 3)\n"
     ]
    }
   ],
   "source": [
    "pairs = [(10, 2), (5, 0), (9, 3)]\n",
    "\n",
    "print(*pairs)"
   ]
  },
  {
   "cell_type": "code",
   "execution_count": 18,
   "metadata": {},
   "outputs": [
    {
     "ename": "SyntaxError",
     "evalue": "can't use starred expression here (2186843894.py, line 2)",
     "output_type": "error",
     "traceback": [
      "\u001b[1;36m  Cell \u001b[1;32mIn[18], line 2\u001b[1;36m\u001b[0m\n\u001b[1;33m    for (a,b) in *pairs:\u001b[0m\n\u001b[1;37m                 ^\u001b[0m\n\u001b[1;31mSyntaxError\u001b[0m\u001b[1;31m:\u001b[0m can't use starred expression here\n"
     ]
    }
   ],
   "source": [
    "def print_args(func):\n",
    "    def wrapper(a,b):\n",
    "        print(f\"a is {a} and b is {b}\")\n",
    "        return func(a,b)\n",
    "    return wrapper\n",
    "\n",
    "@print_args\n",
    "def divide(a,b):\n",
    "    if b == 0:\n",
    "        raise ValueError(\"Cannot divide by zero\")\n",
    "    return a / b\n",
    "\n",
    "\n",
    "def run_division(pairs):\n",
    "    for (a,b) in pairs:\n",
    "        try:\n",
    "            result = divide(a,b)\n",
    "            print(result)\n",
    "        except ValueError as e:\n",
    "            print(e)\n",
    "\n",
    "\n",
    "run_division(pairs)\n",
    "\n",
    "\n",
    "\n",
    "\n",
    "\n",
    "\n",
    "\n",
    "\n",
    "\n",
    "        \n",
    "\n",
    "            \n",
    "\n",
    "        "
   ]
  },
  {
   "cell_type": "code",
   "execution_count": null,
   "metadata": {},
   "outputs": [],
   "source": []
  }
 ],
 "metadata": {
  "kernelspec": {
   "display_name": "Python 3",
   "language": "python",
   "name": "python3"
  },
  "language_info": {
   "codemirror_mode": {
    "name": "ipython",
    "version": 3
   },
   "file_extension": ".py",
   "mimetype": "text/x-python",
   "name": "python",
   "nbconvert_exporter": "python",
   "pygments_lexer": "ipython3",
   "version": "3.13.2"
  }
 },
 "nbformat": 4,
 "nbformat_minor": 2
}
