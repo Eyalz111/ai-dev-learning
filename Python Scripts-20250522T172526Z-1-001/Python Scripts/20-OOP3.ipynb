{
 "cells": [
  {
   "cell_type": "markdown",
   "metadata": {},
   "source": [
    "# Object-Oriented Programming in Python\n"
   ]
  },
  {
   "cell_type": "code",
   "execution_count": 1,
   "metadata": {},
   "outputs": [],
   "source": [
    "# 1. Creating a Car Class\n",
    "class Car:\n",
    "    \"\"\"A simple attempt to represent a car.\"\"\"\n",
    "    \n",
    "    def __init__(self, make, model, year):\n",
    "        \"\"\"Initialize attributes to describe a car.\"\"\"\n",
    "        self.make = make\n",
    "        self.model = model\n",
    "        self.year = year\n",
    "        self.odometer_reading = 0  # Default attribute\n",
    "    \n",
    "    def get_descriptive_name(self):\n",
    "        \"\"\"Return a neatly formatted descriptive name.\"\"\"\n",
    "        long_name = f\"{self.year} {self.make} {self.model}\"\n",
    "        return long_name.title()\n",
    "    \n",
    "    def read_odometer(self):\n",
    "        \"\"\"Print a statement showing the car’s mileage.\"\"\"\n",
    "        print(f\"This car has {self.odometer_reading} miles on it.\")\n",
    "    \n",
    "    def update_odometer(self, mileage):\n",
    "        \"\"\"Set the odometer reading to the given value. Prevent rollback.\"\"\"\n",
    "        if mileage >= self.odometer_reading:\n",
    "            self.odometer_reading = mileage\n",
    "        else:\n",
    "            print(\"You can't roll back an odometer!\")\n",
    "    \n",
    "    def increment_odometer(self, miles):\n",
    "        \"\"\"Add the given amount to the odometer reading.\"\"\"\n",
    "        self.odometer_reading += miles"
   ]
  },
  {
   "cell_type": "code",
   "execution_count": 2,
   "metadata": {},
   "outputs": [],
   "source": [
    "# 2. Creating a Subclass for Electric Cars\n",
    "class ElectricCar(Car):\n",
    "    \"\"\"Represent aspects of a car, specific to electric vehicles.\"\"\"\n",
    "    \n",
    "    def __init__(self, make, model, year):\n",
    "        \"\"\"Initialize attributes of the parent class and add electric-specific attributes.\"\"\"\n",
    "        super().__init__(make, model, year)\n",
    "        self.battery_size = 70  # Default battery size\n",
    "    \n",
    "    def describe_battery(self):\n",
    "        \"\"\"Print a statement describing the battery size.\"\"\"\n",
    "        print(f\"This car has a {self.battery_size}-kWh battery.\")\n"
   ]
  },
  {
   "cell_type": "code",
   "execution_count": 4,
   "metadata": {},
   "outputs": [],
   "source": [
    "# 3. Overriding Methods in Child Classes\n",
    "def fill_gas_tank(self):\n",
    "        \"\"\"Electric cars don't have gas tanks.\"\"\"\n",
    "        print(\"This car doesn't need a gas tank!\")\n"
   ]
  },
  {
   "cell_type": "code",
   "execution_count": 5,
   "metadata": {},
   "outputs": [],
   "source": [
    "# 4. Using Instances as Attributes\n",
    "class Battery:\n",
    "    \"\"\"A simple attempt to model a battery for an electric car.\"\"\"\n",
    "    \n",
    "    def __init__(self, battery_size=70):\n",
    "        \"\"\"Initialize the battery’s attributes.\"\"\"\n",
    "        self.battery_size = battery_size\n",
    "    \n",
    "    def describe_battery(self):\n",
    "        \"\"\"Print a statement describing the battery size.\"\"\"\n",
    "        print(f\"This car has a {self.battery_size}-kWh battery.\")"
   ]
  },
  {
   "cell_type": "code",
   "execution_count": 6,
   "metadata": {},
   "outputs": [],
   "source": [
    "# 5. Incorporating Battery as an Attribute\n",
    "class ElectricCar(Car):\n",
    "    def __init__(self, make, model, year):\n",
    "        \"\"\"Initialize attributes of the parent class and add an instance of Battery.\"\"\"\n",
    "        super().__init__(make, model, year)\n",
    "        self.battery = Battery()"
   ]
  },
  {
   "cell_type": "code",
   "execution_count": 7,
   "metadata": {},
   "outputs": [
    {
     "name": "stdout",
     "output_type": "stream",
     "text": [
      "2016 Tesla Model S\n",
      "This car has a 70-kWh battery.\n"
     ]
    }
   ],
   "source": [
    "# 6. Creating an Instance of the Child Class\n",
    "my_tesla = ElectricCar(\"Tesla\", \"Model S\", 2016)\n",
    "print(my_tesla.get_descriptive_name())  # Output: 2016 Tesla Model S\n",
    "my_tesla.battery.describe_battery()  # Output: This car has a 70-kWh battery.\n"
   ]
  },
  {
   "cell_type": "code",
   "execution_count": 8,
   "metadata": {},
   "outputs": [
    {
     "name": "stdout",
     "output_type": "stream",
     "text": [
      "\n",
      "--- Try It Yourself ---\n",
      "1. Modify your Car class to include an attribute for fuel capacity and a method to describe it.\n",
      "2. Add a subclass HybridCar that inherits from Car and includes both a fuel tank and a battery.\n",
      "3. Modify the ElectricCar class to allow the user to specify battery size when creating an instance.\n",
      "4. Create instances of Car, ElectricCar, and HybridCar, then print their attributes and call their methods.\n",
      "5. Create a class IceCreamStand that inherits from Restaurant and adds an attribute for flavors and a method to display them.\n",
      "6. Create a class Admin that inherits from User and adds an attribute for privileges and a method to display them.\n",
      "7. Create a class Privileges to store privileges and instantiate it inside the Admin class.\n",
      "8. Modify the Battery class to add an upgrade_battery() method that sets the battery size to 85 if it isn't already and then prints the car's range before and after the upgrade.\n"
     ]
    }
   ],
   "source": [
    "# Try It Yourself Questions:\n",
    "print(\"\\n--- Try It Yourself ---\")\n",
    "print(\"1. Modify your Car class to include an attribute for fuel capacity and a method to describe it.\")\n",
    "print(\"2. Add a subclass HybridCar that inherits from Car and includes both a fuel tank and a battery.\")\n",
    "print(\"3. Modify the ElectricCar class to allow the user to specify battery size when creating an instance.\")\n",
    "print(\"4. Create instances of Car, ElectricCar, and HybridCar, then print their attributes and call their methods.\")\n",
    "print(\"5. Create a class IceCreamStand that inherits from Restaurant and adds an attribute for flavors and a method to display them.\")\n",
    "print(\"6. Create a class Admin that inherits from User and adds an attribute for privileges and a method to display them.\")\n",
    "print(\"7. Create a class Privileges to store privileges and instantiate it inside the Admin class.\")\n",
    "print(\"8. Modify the Battery class to add an upgrade_battery() method that sets the battery size to 85 if it isn't already and then prints the car's range before and after the upgrade.\")\n"
   ]
  },
  {
   "cell_type": "markdown",
   "metadata": {},
   "source": []
  }
 ],
 "metadata": {
  "kernelspec": {
   "display_name": "base",
   "language": "python",
   "name": "python3"
  },
  "language_info": {
   "codemirror_mode": {
    "name": "ipython",
    "version": 3
   },
   "file_extension": ".py",
   "mimetype": "text/x-python",
   "name": "python",
   "nbconvert_exporter": "python",
   "pygments_lexer": "ipython3",
   "version": "3.11.5"
  }
 },
 "nbformat": 4,
 "nbformat_minor": 2
}
