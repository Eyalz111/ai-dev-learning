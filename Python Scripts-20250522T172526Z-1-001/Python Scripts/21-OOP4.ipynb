{
 "cells": [
  {
   "cell_type": "markdown",
   "metadata": {},
   "source": [
    "# Object-Oriented Programming in Python\n"
   ]
  },
  {
   "cell_type": "code",
   "execution_count": null,
   "metadata": {},
   "outputs": [],
   "source": [
    "# 1. Multiple Inheritance\n",
    "class Parent1:\n",
    "    def method1(self):\n",
    "        print(\"Method from Parent1\")\n",
    "\n",
    "class Parent2:\n",
    "    def method2(self):\n",
    "        print(\"Method from Parent2\")\n",
    "\n",
    "class Child(Parent1, Parent2):\n",
    "    pass\n",
    "\n",
    "obj = Child()\n",
    "obj.method1()  # Output: Method from Parent1\n",
    "obj.method2()  # Output: Method from Parent2"
   ]
  },
  {
   "cell_type": "code",
   "execution_count": null,
   "metadata": {},
   "outputs": [],
   "source": [
    "# 2. Method Resolution Order (MRO)\n",
    "print(Child.__mro__)  # Shows the resolution order for methods"
   ]
  },
  {
   "cell_type": "code",
   "execution_count": null,
   "metadata": {},
   "outputs": [],
   "source": [
    "# 3. Overriding Methods in Multiple Inheritance\n",
    "class Parent1:\n",
    "    def greet(self):\n",
    "        print(\"Hello from Parent1\")\n",
    "\n",
    "class Parent2:\n",
    "    def greet(self):\n",
    "        print(\"Hello from Parent2\")\n",
    "\n",
    "class Child(Parent1, Parent2):\n",
    "    pass\n",
    "\n",
    "obj = Child()\n",
    "obj.greet()  # Output: Hello from Parent1 (due to MRO)"
   ]
  },
  {
   "cell_type": "code",
   "execution_count": null,
   "metadata": {},
   "outputs": [],
   "source": [
    "# 4. Using super() in Multiple Inheritance\n",
    "class Parent1:\n",
    "    def greet(self):\n",
    "        print(\"Hello from Parent1\")\n",
    "\n",
    "class Parent2:\n",
    "    def greet(self):\n",
    "        print(\"Hello from Parent2\")\n",
    "\n",
    "class Child(Parent1, Parent2):\n",
    "    def greet(self):\n",
    "        super().greet()  # Calls Parent1's method\n",
    "        Parent2.greet(self)  # Explicitly calls Parent2's method\n",
    "\n",
    "obj = Child()\n",
    "obj.greet()\n",
    "# Output:\n",
    "# Hello from Parent1\n",
    "# Hello from Parent2"
   ]
  },
  {
   "cell_type": "code",
   "execution_count": null,
   "metadata": {},
   "outputs": [],
   "source": [
    "# Best Practices for Multiple Inheritance\n",
    "print(\"\\nBest Practices:\")\n",
    "print(\"- Use multiple inheritance only when necessary.\")\n",
    "print(\"- Check MRO to avoid conflicts.\")"
   ]
  },
  {
   "cell_type": "code",
   "execution_count": null,
   "metadata": {},
   "outputs": [],
   "source": [
    "# Try It Yourself Questions:\n",
    "print(\"\\n--- Try It Yourself ---\")\n",
    "print(\"1. Create a class Employee with attributes name and salary, and a method to display them.\")\n",
    "print(\"2. Create a class Manager that inherits from Employee and adds a department attribute.\")\n",
    "print(\"3. Create a class Developer that inherits from Employee and adds a programming language attribute.\")\n",
    "print(\"4. Create a class TeamLead that inherits from both Manager and Developer and displays all attributes.\")\n",
    "print(\"5. Test method resolution order (MRO) in the TeamLead class.\")"
   ]
  }
 ],
 "metadata": {
  "kernelspec": {
   "display_name": "base",
   "language": "python",
   "name": "python3"
  },
  "language_info": {
   "codemirror_mode": {
    "name": "ipython",
    "version": 3
   },
   "file_extension": ".py",
   "mimetype": "text/x-python",
   "name": "python",
   "nbconvert_exporter": "python",
   "pygments_lexer": "ipython3",
   "version": "3.11.5"
  }
 },
 "nbformat": 4,
 "nbformat_minor": 2
}
