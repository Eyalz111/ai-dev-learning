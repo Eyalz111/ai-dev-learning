{
 "cells": [
  {
   "cell_type": "markdown",
   "metadata": {},
   "source": [
    "# Functional Programming"
   ]
  },
  {
   "cell_type": "code",
   "execution_count": 1,
   "metadata": {},
   "outputs": [],
   "source": [
    "def new_add(a,b):\n",
    "    return a + b"
   ]
  },
  {
   "cell_type": "code",
   "execution_count": 2,
   "metadata": {},
   "outputs": [],
   "source": [
    "new_add2 = lambda a,b: a + b"
   ]
  },
  {
   "cell_type": "code",
   "execution_count": 3,
   "metadata": {},
   "outputs": [
    {
     "data": {
      "text/plain": [
       "3"
      ]
     },
     "execution_count": 3,
     "metadata": {},
     "output_type": "execute_result"
    }
   ],
   "source": [
    "new_add2(1,2)"
   ]
  },
  {
   "cell_type": "code",
   "execution_count": 55,
   "metadata": {},
   "outputs": [
    {
     "name": "stdout",
     "output_type": "stream",
     "text": [
      "e\n"
     ]
    }
   ],
   "source": [
    "first_letter = lambda x: x[0]\n",
    "\n",
    "print(first_letter(\"eyal\"))\n"
   ]
  },
  {
   "cell_type": "code",
   "execution_count": 56,
   "metadata": {},
   "outputs": [],
   "source": [
    "lst_of_names = [\"Emma\", \"Liam\", \"Olivia\", \"Noah\", \"Ava\", \"Ethan\", \"Isabella\", \"Lucas\", \"Sophia\", \"Mason\", \n",
    "                \"Mia\", \"Oliver\", \"Charlotte\", \"Elijah\", \"Amelia\", \"James\", \"Harper\", \"Alexander\", \"Evelyn\", \"Benjamin\",\n",
    "                \"Abigail\", \"Sebastian\", \"Emily\", \"Jack\", \"Elizabeth\", \"Daniel\", \"Sofia\", \"Matthew\", \"Avery\", \"Henry\",\n",
    "                \"Ella\", \"Jackson\", \"Scarlett\", \"Samuel\", \"Grace\", \"David\", \"Chloe\", \"Joseph\", \"Victoria\", \"Carter\",\n",
    "                \"Riley\", \"Owen\", \"Layla\", \"Wyatt\", \"Zoey\", \"John\", \"Lily\", \"Luke\", \"Madison\", \"Gabriel\",\n",
    "                \"Aubrey\", \"Anthony\", \"Hannah\", \"Isaac\", \"Aria\", \"Julian\", \"Scarlet\", \"Christopher\", \"Zoe\", \"Joshua\",\n",
    "                \"Penelope\", \"Andrew\", \"Luna\", \"Ryan\", \"Savannah\", \"Nathan\", \"Brooklyn\", \"Aaron\", \"Leah\", \"Adam\",\n",
    "                \"Audrey\", \"Thomas\", \"Claire\", \"Charles\", \"Skylar\", \"Caleb\", \"Lucy\", \"Jordan\", \"Anna\", \"Hunter\",\n",
    "                \"Sarah\", \"Cameron\", \"Eva\", \"Adrian\", \"Ariana\", \"Austin\", \"Alice\", \"Ian\", \"Bella\", \"Jonathan\",\n",
    "                \"Caroline\", \"Connor\", \"Madelyn\", \"Xavier\", \"Julia\", \"Dominic\", \"Maya\", \"Leonardo\", \"Ruby\", \"Diego\",\n",
    "                \"Katherine\", \"Cole\", \"Lauren\", \"Alex\", \"Autumn\"]"
   ]
  },
  {
   "cell_type": "code",
   "execution_count": 61,
   "metadata": {},
   "outputs": [
    {
     "data": {
      "text/plain": [
       "['Benjamin',\n",
       " 'Daniel',\n",
       " 'Henry',\n",
       " 'Hannah',\n",
       " 'Penelope',\n",
       " 'Luna',\n",
       " 'Anna',\n",
       " 'Hunter',\n",
       " 'Ian',\n",
       " 'Jonathan',\n",
       " 'Connor']"
      ]
     },
     "execution_count": 61,
     "metadata": {},
     "output_type": "execute_result"
    }
   ],
   "source": [
    "list(filter(lambda x: x[2]=='n',lst_of_names))"
   ]
  },
  {
   "cell_type": "code",
   "execution_count": 65,
   "metadata": {},
   "outputs": [
    {
     "name": "stdout",
     "output_type": "stream",
     "text": [
      "[7, 14, 21, 28, 35, 42, 49]\n"
     ]
    }
   ],
   "source": [
    "lst3=filter(lambda x:x%7==0,range(4,51))\n",
    "print(list(lst3))"
   ]
  },
  {
   "cell_type": "code",
   "execution_count": 32,
   "metadata": {},
   "outputs": [],
   "source": [
    "lst = [1,2,3]\n",
    "\n",
    "def new_add(a):\n",
    "    return a + 1\n"
   ]
  },
  {
   "cell_type": "code",
   "execution_count": 33,
   "metadata": {},
   "outputs": [
    {
     "data": {
      "text/plain": [
       "['jonathan', 'zouari']"
      ]
     },
     "execution_count": 33,
     "metadata": {},
     "output_type": "execute_result"
    }
   ],
   "source": [
    "\"jonathan zouari\".split()"
   ]
  },
  {
   "cell_type": "code",
   "execution_count": 34,
   "metadata": {},
   "outputs": [
    {
     "data": {
      "text/plain": [
       "[2, 3, 4]"
      ]
     },
     "execution_count": 34,
     "metadata": {},
     "output_type": "execute_result"
    }
   ],
   "source": [
    "list(map(new_add,[1,2,3]))"
   ]
  },
  {
   "cell_type": "code",
   "execution_count": 35,
   "metadata": {},
   "outputs": [
    {
     "name": "stdout",
     "output_type": "stream",
     "text": [
      "Imperative Approach: [3, 6, 9, 12]\n"
     ]
    }
   ],
   "source": [
    "# 1. Imperative vs Functional Approach\n",
    "numbers = [1, 2, 3, 4]\n",
    "\n",
    "# Imperative Approach\n",
    "result = []\n",
    "for num in numbers:\n",
    "    result.append(num * 3)\n",
    "print(\"Imperative Approach:\", result)  # Output: [3, 6, 9, 12]"
   ]
  },
  {
   "cell_type": "code",
   "execution_count": 36,
   "metadata": {},
   "outputs": [
    {
     "name": "stdout",
     "output_type": "stream",
     "text": [
      "Functional Approach: [3, 6, 9, 12]\n"
     ]
    }
   ],
   "source": [
    "# Functional Approach\n",
    "result = list(map(lambda x: x * 3, numbers))\n",
    "print(\"Functional Approach:\", result)  # Output: [3, 6, 9, 12]\n"
   ]
  },
  {
   "cell_type": "code",
   "execution_count": 37,
   "metadata": {},
   "outputs": [
    {
     "name": "stdout",
     "output_type": "stream",
     "text": [
      "Lambda Square of 6: 36\n"
     ]
    }
   ],
   "source": [
    "# 2. Lambda Expressions\n",
    "square = lambda x: x ** 2\n",
    "print(\"Lambda Square of 6:\", square(6))  # Output: 36"
   ]
  },
  {
   "cell_type": "code",
   "execution_count": 38,
   "metadata": {},
   "outputs": [
    {
     "name": "stdout",
     "output_type": "stream",
     "text": [
      "Cubed Numbers: [1, 8, 27, 64]\n"
     ]
    }
   ],
   "source": [
    "# 3. Using map() Function\n",
    "cubed = list(map(lambda x: x ** 3, numbers))\n",
    "print(\"Cubed Numbers:\", cubed)  # Output: [1, 8, 27, 64]\n"
   ]
  },
  {
   "cell_type": "code",
   "execution_count": 39,
   "metadata": {},
   "outputs": [],
   "source": [
    "lst = [1,2,3,4,5]"
   ]
  },
  {
   "cell_type": "code",
   "execution_count": 40,
   "metadata": {},
   "outputs": [],
   "source": [
    "def new_list2(lst):\n",
    "    temp_list = []\n",
    "    for num in lst:\n",
    "        if num % 2 == 0:\n",
    "            temp_list.append(num)\n",
    "    return temp_list"
   ]
  },
  {
   "cell_type": "code",
   "execution_count": 41,
   "metadata": {},
   "outputs": [],
   "source": [
    "def check_even(num):\n",
    "    return num % 2 == 0\n",
    "\n"
   ]
  },
  {
   "cell_type": "code",
   "execution_count": 42,
   "metadata": {},
   "outputs": [
    {
     "data": {
      "text/plain": [
       "[False, True, False, True, False]"
      ]
     },
     "execution_count": 42,
     "metadata": {},
     "output_type": "execute_result"
    }
   ],
   "source": [
    "list(map(check_even,lst))"
   ]
  },
  {
   "cell_type": "code",
   "execution_count": 43,
   "metadata": {},
   "outputs": [
    {
     "data": {
      "text/plain": [
       "[False, True, False, True, False]"
      ]
     },
     "execution_count": 43,
     "metadata": {},
     "output_type": "execute_result"
    }
   ],
   "source": [
    "[1,2,3,4,5]\n",
    "[False,True,False,True,False]"
   ]
  },
  {
   "cell_type": "code",
   "execution_count": null,
   "metadata": {},
   "outputs": [],
   "source": []
  },
  {
   "cell_type": "code",
   "execution_count": 44,
   "metadata": {},
   "outputs": [
    {
     "name": "stdout",
     "output_type": "stream",
     "text": [
      "Even Numbers: [2, 4]\n"
     ]
    }
   ],
   "source": [
    "# 4. Using filter() Function\n",
    "even_numbers = list(filter(lambda x: x % 2 == 0, numbers))\n",
    "print(\"Even Numbers:\", even_numbers)  # Output: [2, 4]"
   ]
  },
  {
   "cell_type": "code",
   "execution_count": 45,
   "metadata": {},
   "outputs": [
    {
     "name": "stdout",
     "output_type": "stream",
     "text": [
      "Zipped Pairs: [(1, 'a'), (2, 'b'), (3, 'c')]\n"
     ]
    }
   ],
   "source": [
    "# 5. Using zip() Function\n",
    "list1 = [1, 2, 3]\n",
    "list2 = ['a', 'b', 'c']\n",
    "zipped = list(zip(list1, list2))\n",
    "print(\"Zipped Pairs:\", zipped)  # Output: [(1, 'a'), (2, 'b'), (3, 'c')]\n"
   ]
  },
  {
   "cell_type": "code",
   "execution_count": 46,
   "metadata": {},
   "outputs": [
    {
     "name": "stdout",
     "output_type": "stream",
     "text": [
      "Sum of Numbers: 10\n"
     ]
    }
   ],
   "source": [
    "# 6. Using reduce() Function\n",
    "from functools import reduce\n",
    "sum_numbers = reduce(lambda x, y: x + y, numbers)\n",
    "print(\"Sum of Numbers:\", sum_numbers)  # Output: 10"
   ]
  },
  {
   "cell_type": "code",
   "execution_count": 47,
   "metadata": {},
   "outputs": [
    {
     "name": "stdout",
     "output_type": "stream",
     "text": [
      "\n",
      "--- Coding Task ---\n",
      "Write a Python function using the reduce() function to compute the product of all elements in a given list of numbers.\n"
     ]
    }
   ],
   "source": [
    "print(\"\\n--- Coding Task ---\")\n",
    "print(\"Write a Python function using the reduce() function to compute the product of all elements in a given list of numbers.\")"
   ]
  }
 ],
 "metadata": {
  "kernelspec": {
   "display_name": "Python 3",
   "language": "python",
   "name": "python3"
  },
  "language_info": {
   "codemirror_mode": {
    "name": "ipython",
    "version": 3
   },
   "file_extension": ".py",
   "mimetype": "text/x-python",
   "name": "python",
   "nbconvert_exporter": "python",
   "pygments_lexer": "ipython3",
   "version": "3.13.2"
  }
 },
 "nbformat": 4,
 "nbformat_minor": 2
}
