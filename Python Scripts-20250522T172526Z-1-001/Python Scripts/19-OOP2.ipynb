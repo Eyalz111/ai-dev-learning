{
 "cells": [
  {
   "cell_type": "markdown",
   "metadata": {},
   "source": [
    "# Object-Oriented Programming in Python\n"
   ]
  },
  {
   "cell_type": "code",
   "execution_count": 1,
   "metadata": {},
   "outputs": [],
   "source": [
    "# 1. Creating a Car Class\n",
    "class Car:\n",
    "    \"\"\"A simple attempt to represent a car.\"\"\"\n",
    "    \n",
    "    def __init__(self, make, model, year):\n",
    "        \"\"\"Initialize attributes to describe a car.\"\"\"\n",
    "        self.make = make\n",
    "        self.model = model\n",
    "        self.year = year\n",
    "        self.odometer_reading = 0  # Default attribute\n",
    "    \n",
    "    def get_descriptive_name(self):\n",
    "        \"\"\"Return a neatly formatted descriptive name.\"\"\"\n",
    "        long_name = f\"{self.year} {self.make} {self.model}\"\n",
    "        return long_name.title()\n",
    "    \n",
    "    def read_odometer(self):\n",
    "        \"\"\"Print a statement showing the car’s mileage.\"\"\"\n",
    "        print(f\"This car has {self.odometer_reading} miles on it.\")\n",
    "    \n",
    "    def update_odometer(self, mileage):\n",
    "        \"\"\"Set the odometer reading to the given value. Prevent rollback.\"\"\"\n",
    "        if mileage >= self.odometer_reading:\n",
    "            self.odometer_reading = mileage\n",
    "        else:\n",
    "            print(\"You can't roll back an odometer!\")\n",
    "    \n",
    "    def increment_odometer(self, miles):\n",
    "        \"\"\"Add the given amount to the odometer reading.\"\"\"\n",
    "        self.odometer_reading += miles\n"
   ]
  },
  {
   "cell_type": "code",
   "execution_count": 2,
   "metadata": {},
   "outputs": [
    {
     "name": "stdout",
     "output_type": "stream",
     "text": [
      "2016 Audi A4\n",
      "This car has 0 miles on it.\n"
     ]
    }
   ],
   "source": [
    "# Creating an Instance and Modifying Attributes\n",
    "my_car = Car(\"Audi\", \"A4\", 2016)\n",
    "print(my_car.get_descriptive_name())  # Output: 2016 Audi A4\n",
    "my_car.read_odometer()  # Output: This car has 0 miles on it."
   ]
  },
  {
   "cell_type": "code",
   "execution_count": 3,
   "metadata": {},
   "outputs": [
    {
     "name": "stdout",
     "output_type": "stream",
     "text": [
      "This car has 23 miles on it.\n"
     ]
    }
   ],
   "source": [
    "# Modifying Odometer Readings\n",
    "my_car.odometer_reading = 23\n",
    "my_car.read_odometer()  # Output: This car has 23 miles on it."
   ]
  },
  {
   "cell_type": "code",
   "execution_count": 4,
   "metadata": {},
   "outputs": [
    {
     "name": "stdout",
     "output_type": "stream",
     "text": [
      "This car has 50 miles on it.\n"
     ]
    }
   ],
   "source": [
    "my_car.update_odometer(50)\n",
    "my_car.read_odometer()  # Output: This car has 50 miles on it."
   ]
  },
  {
   "cell_type": "code",
   "execution_count": 5,
   "metadata": {},
   "outputs": [
    {
     "name": "stdout",
     "output_type": "stream",
     "text": [
      "This car has 150 miles on it.\n"
     ]
    }
   ],
   "source": [
    "my_car.increment_odometer(100)\n",
    "my_car.read_odometer()  # Output: This car has 150 miles on it."
   ]
  },
  {
   "cell_type": "code",
   "execution_count": 6,
   "metadata": {},
   "outputs": [
    {
     "name": "stdout",
     "output_type": "stream",
     "text": [
      "\n",
      "--- Try It Yourself ---\n",
      "1. Add an attribute called number_served to your Restaurant class. Create an instance, modify the value, and print it.\n",
      "2. Add methods set_number_served() and increment_number_served() to manage the number of customers served.\n",
      "3. Add an attribute called login_attempts to your User class, with methods to increment and reset it.\n",
      "4. Create an instance of User, increment login_attempts multiple times, print the value, reset it, and print again.\n"
     ]
    }
   ],
   "source": [
    "# Try It Yourself Questions:\n",
    "print(\"\\n--- Try It Yourself ---\")\n",
    "print(\"1. Add an attribute called number_served to your Restaurant class. Create an instance, modify the value, and print it.\")\n",
    "print(\"2. Add methods set_number_served() and increment_number_served() to manage the number of customers served.\")\n",
    "print(\"3. Add an attribute called login_attempts to your User class, with methods to increment and reset it.\")\n",
    "print(\"4. Create an instance of User, increment login_attempts multiple times, print the value, reset it, and print again.\")\n"
   ]
  },
  {
   "cell_type": "markdown",
   "metadata": {},
   "source": []
  }
 ],
 "metadata": {
  "kernelspec": {
   "display_name": "base",
   "language": "python",
   "name": "python3"
  },
  "language_info": {
   "codemirror_mode": {
    "name": "ipython",
    "version": 3
   },
   "file_extension": ".py",
   "mimetype": "text/x-python",
   "name": "python",
   "nbconvert_exporter": "python",
   "pygments_lexer": "ipython3",
   "version": "3.11.5"
  }
 },
 "nbformat": 4,
 "nbformat_minor": 2
}
