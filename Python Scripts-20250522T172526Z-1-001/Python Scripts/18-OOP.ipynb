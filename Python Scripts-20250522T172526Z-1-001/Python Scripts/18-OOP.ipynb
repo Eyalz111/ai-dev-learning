{
 "cells": [
  {
   "cell_type": "markdown",
   "metadata": {},
   "source": [
    "# Object-Oriented Programming in Python\n"
   ]
  },
  {
   "cell_type": "code",
   "execution_count": 1,
   "metadata": {},
   "outputs": [],
   "source": [
    "# 1. Creating a Class and Objects\n",
    "class Dog:\n",
    "    \"\"\"A simple attempt to model a dog.\"\"\"\n",
    "    \n",
    "    def __init__(self, name, age):\n",
    "        \"\"\"Initialize name and age attributes.\"\"\"\n",
    "        self.name = name\n",
    "        self.age = age\n",
    "    \n",
    "    def sit(self):\n",
    "        \"\"\"Simulate a dog sitting in response to a command.\"\"\"\n",
    "        print(self.name.title() + \" is now sitting.\")\n",
    "    \n",
    "    def roll_over(self):\n",
    "        \"\"\"Simulate rolling over in response to a command.\"\"\"\n",
    "        print(self.name.title() + \" rolled over!\")"
   ]
  },
  {
   "cell_type": "code",
   "execution_count": 7,
   "metadata": {},
   "outputs": [
    {
     "name": "stdout",
     "output_type": "stream",
     "text": [
      "Buddy rolled over!\n"
     ]
    },
    {
     "data": {
      "text/plain": [
       "__main__.Dog"
      ]
     },
     "execution_count": 7,
     "metadata": {},
     "output_type": "execute_result"
    }
   ],
   "source": [
    "# Creating Instances and Calling Methods\n",
    "dog1 = Dog(\"Buddy\", 3)\n",
    "dog2 = Dog(\"Max\", 5)\n",
    "\n",
    "dog1.roll_over()\n",
    "\n",
    "\n",
    "\n",
    "# dog1.sit()  # Output: \"Buddy is now sitting.\"\n",
    "# dog2.roll_over()  # Output: \"Max rolled over!\""
   ]
  },
  {
   "cell_type": "code",
   "execution_count": 3,
   "metadata": {},
   "outputs": [],
   "source": [
    "# 2. Creating a Restaurant Class\n",
    "class Restaurant:\n",
    "    \"\"\"A simple restaurant model.\"\"\"\n",
    "    \n",
    "    def __init__(self, restaurant_name, cuisine_type):\n",
    "        \"\"\"Initialize restaurant attributes.\"\"\"\n",
    "        self.restaurant_name = restaurant_name\n",
    "        self.cuisine_type = cuisine_type\n",
    "    \n",
    "    def describe_restaurant(self):\n",
    "        \"\"\"Prints restaurant details.\"\"\"\n",
    "        print(f\"{self.restaurant_name} serves {self.cuisine_type} cuisine.\")\n",
    "    \n",
    "    def open_restaurant(self):\n",
    "        \"\"\"Indicates that the restaurant is open.\"\"\"\n",
    "        print(f\"{self.restaurant_name} is now open!\")"
   ]
  },
  {
   "cell_type": "code",
   "execution_count": 4,
   "metadata": {},
   "outputs": [
    {
     "name": "stdout",
     "output_type": "stream",
     "text": [
      "Pasta Place serves Italian cuisine.\n",
      "Pasta Place is now open!\n"
     ]
    }
   ],
   "source": [
    "# Creating an Instance and Calling Methods\n",
    "restaurant = Restaurant(\"Pasta Place\", \"Italian\")\n",
    "restaurant.describe_restaurant()\n",
    "restaurant.open_restaurant()"
   ]
  },
  {
   "cell_type": "code",
   "execution_count": 5,
   "metadata": {},
   "outputs": [],
   "source": [
    "# 3. Creating a User Class\n",
    "class User:\n",
    "    \"\"\"A simple user profile model.\"\"\"\n",
    "    \n",
    "    def __init__(self, first_name, last_name, age):\n",
    "        \"\"\"Initialize user attributes.\"\"\"\n",
    "        self.first_name = first_name\n",
    "        self.last_name = last_name\n",
    "        self.age = age\n",
    "    \n",
    "    def describe_user(self):\n",
    "        \"\"\"Prints user details.\"\"\"\n",
    "        print(f\"User: {self.first_name} {self.last_name}, Age: {self.age}\")\n",
    "    \n",
    "    def greet_user(self):\n",
    "        \"\"\"Prints a personalized greeting.\"\"\"\n",
    "        print(f\"Hello, {self.first_name} {self.last_name}!\")"
   ]
  },
  {
   "cell_type": "code",
   "execution_count": 6,
   "metadata": {},
   "outputs": [
    {
     "name": "stdout",
     "output_type": "stream",
     "text": [
      "User: Alice Johnson, Age: 28\n",
      "Hello, Alice Johnson!\n",
      "User: Bob Smith, Age: 35\n",
      "Hello, Bob Smith!\n"
     ]
    }
   ],
   "source": [
    "\n",
    "# Creating Instances and Calling Methods\n",
    "user1 = User(\"Alice\", \"Johnson\", 28)\n",
    "user2 = User(\"Bob\", \"Smith\", 35)\n",
    "\n",
    "user1.describe_user()\n",
    "user1.greet_user()\n",
    "\n",
    "user2.describe_user()\n",
    "user2.greet_user()"
   ]
  },
  {
   "cell_type": "code",
   "execution_count": 7,
   "metadata": {},
   "outputs": [
    {
     "name": "stdout",
     "output_type": "stream",
     "text": [
      "\n",
      "--- Try It Yourself ---\n",
      "1. Create a class called Restaurant with attributes for restaurant_name and cuisine_type. Add methods to describe and open the restaurant.\n",
      "2. Create three instances of the Restaurant class and call describe_restaurant() for each.\n",
      "3. Create a class called User with first_name and last_name attributes, along with other typical user profile attributes. Add methods to describe and greet the user.\n",
      "4. Create several instances of the User class and call both methods for each.\n"
     ]
    }
   ],
   "source": [
    "# Try It Yourself Questions:\n",
    "print(\"\\n--- Try It Yourself ---\")\n",
    "print(\"1. Create a class called Restaurant with attributes for restaurant_name and cuisine_type. Add methods to describe and open the restaurant.\")\n",
    "print(\"2. Create three instances of the Restaurant class and call describe_restaurant() for each.\")\n",
    "print(\"3. Create a class called User with first_name and last_name attributes, along with other typical user profile attributes. Add methods to describe and greet the user.\")\n",
    "print(\"4. Create several instances of the User class and call both methods for each.\")\n"
   ]
  },
  {
   "cell_type": "markdown",
   "metadata": {},
   "source": []
  },
  {
   "cell_type": "code",
   "execution_count": null,
   "metadata": {},
   "outputs": [],
   "source": [
    "class Restaurant:\n",
    "    \"\"\"A simple restaurant model.\"\"\"\n",
    "    \n",
    "    def __init__(self, restaurant_name, cuisine_type):\n",
    "        \"\"\"Initialize restaurant attributes.\"\"\"\n",
    "        self.restaurant_name = restaurant_name\n",
    "        self.cuisine_type = cuisine_type\n",
    "    \n",
    "    def describe_restaurant(self):\n",
    "        \"\"\"Prints information about the restaurant.\"\"\"\n",
    "        print(f\"\\nRestaurant: {self.restaurant_name}\")\n",
    "        print(f\"Cuisine Type: {self.cuisine_type}\")\n",
    "    \n",
    "    def open_restaurant(self):\n",
    "        \"\"\"Simulates opening the restaurant.\"\"\"\n",
    "        print(f\"{self.restaurant_name} is now open!\")\n",
    "\n",
    "\n",
    "# Create three restaurant instances\n",
    "italian_restaurant = Restaurant(\"La Pasta\", \"Italian\")\n",
    "mexican_restaurant = Restaurant(\"El Taco\", \"Mexican\") \n",
    "chinese_restaurant = Restaurant(\"Golden Dragon\", \"Chinese\")\n",
    "\n",
    "# Call describe_restaurant() for each instance\n",
    "italian_restaurant.describe_restaurant()\n",
    "mexican_restaurant.describe_restaurant()\n",
    "chinese_restaurant.describe_restaurant()\n"
   ]
  },
  {
   "cell_type": "code",
   "execution_count": 8,
   "metadata": {},
   "outputs": [],
   "source": [
    "class Car:\n",
    "    \"\"\"A simple attempt to represent a car.\"\"\"\n",
    "    \n",
    "    def __init__(self, make, model, year):\n",
    "        \"\"\"Initialize attributes to describe a car.\"\"\"\n",
    "        self.make = make\n",
    "        self.model = model\n",
    "        self.year = year\n",
    "        self.odometer_reading = 0\n",
    "        \n",
    "    def get_descriptive_name(self):\n",
    "        \"\"\"Return a neatly formatted descriptive name.\"\"\"\n",
    "        long_name = f\"{self.year} {self.make} {self.model}\"\n",
    "        return long_name.title()\n",
    "    \n",
    "    def read_odometer(self):\n",
    "        \"\"\"Print a statement showing the car's mileage.\"\"\"\n",
    "        print(f\"This car has {self.odometer_reading} miles on it.\")\n",
    "        \n",
    "    def update_odometer(self, mileage):\n",
    "        \"\"\"Set the odometer reading to the given value. Prevent rollback.\"\"\"\n",
    "        if mileage >= self.odometer_reading:\n",
    "            self.odometer_reading = mileage\n",
    "        else:\n",
    "            print(\"You can't roll back an odometer!\")\n",
    "            \n",
    "    def increment_odometer(self, miles):\n",
    "        \"\"\"Add the given amount to the odometer reading.\"\"\"\n",
    "        self.odometer_reading += miles\n"
   ]
  },
  {
   "cell_type": "code",
   "execution_count": 9,
   "metadata": {},
   "outputs": [],
   "source": [
    "new_car = Car(\"Ford\",\"Mustang\",2020)"
   ]
  },
  {
   "cell_type": "code",
   "execution_count": 17,
   "metadata": {},
   "outputs": [],
   "source": [
    "new_car.increment_odometer(100)"
   ]
  },
  {
   "cell_type": "code",
   "execution_count": 18,
   "metadata": {},
   "outputs": [
    {
     "data": {
      "text/plain": [
       "200"
      ]
     },
     "execution_count": 18,
     "metadata": {},
     "output_type": "execute_result"
    }
   ],
   "source": [
    "new_car.odometer_reading"
   ]
  },
  {
   "cell_type": "code",
   "execution_count": 19,
   "metadata": {},
   "outputs": [],
   "source": [
    "class LibraryBook:\n",
    "    \"\"\"A simple attempt to model a library book.\"\"\"\n",
    "\n",
    "    def __init__(self, title, author, year):\n",
    "        \"\"\"Initialize the book's attributes.\"\"\"\n",
    "        self.title = title\n",
    "        self.author = author\n",
    "        self.year = year\n",
    "        self.is_checked_out = False  # Default value\n",
    "\n",
    "    def describe_book(self):\n",
    "        \"\"\"Return a descriptive string for the book.\"\"\"\n",
    "        return f\"'{self.title}' by {self.author} ({self.year})\"\n",
    "\n",
    "    def check_out(self):\n",
    "        \"\"\"Mark the book as checked out.\"\"\"\n",
    "        if not self.is_checked_out:\n",
    "            self.is_checked_out = True\n",
    "            print(f\"The book '{self.title}' has been checked out.\")\n",
    "        else:\n",
    "            print(f\"The book '{self.title}' is already checked out.\")\n",
    "\n",
    "    def return_book(self):\n",
    "        \"\"\"Mark the book as returned.\"\"\"\n",
    "        if self.is_checked_out:\n",
    "            self.is_checked_out = False\n",
    "            print(f\"The book '{self.title}' has been returned.\")\n",
    "        else:\n",
    "            print(f\"The book '{self.title}' was not checked out.\")\n",
    "\n",
    "# דוגמת שימוש:\n"
   ]
  },
  {
   "cell_type": "code",
   "execution_count": 20,
   "metadata": {},
   "outputs": [
    {
     "name": "stdout",
     "output_type": "stream",
     "text": [
      "'Harry Potter' by J.K. Rowling (1997)\n",
      "The book 'Harry Potter' has been checked out.\n",
      "The book 'Harry Potter' has been returned.\n"
     ]
    }
   ],
   "source": [
    "book = LibraryBook(\"Harry Potter\", \"J.K. Rowling\", 1997)\n",
    "print(book.describe_book())\n",
    "book.check_out()\n",
    "book.return_book()"
   ]
  },
  {
   "cell_type": "code",
   "execution_count": 22,
   "metadata": {},
   "outputs": [
    {
     "name": "stdout",
     "output_type": "stream",
     "text": [
      "The book 'Harry Potter' has been checked out.\n"
     ]
    }
   ],
   "source": [
    "book.is_checked_out\n",
    "book.check_out()"
   ]
  },
  {
   "cell_type": "code",
   "execution_count": 23,
   "metadata": {},
   "outputs": [
    {
     "data": {
      "text/plain": [
       "True"
      ]
     },
     "execution_count": 23,
     "metadata": {},
     "output_type": "execute_result"
    }
   ],
   "source": [
    "book.is_checked_out\n"
   ]
  },
  {
   "cell_type": "code",
   "execution_count": 24,
   "metadata": {},
   "outputs": [
    {
     "name": "stdout",
     "output_type": "stream",
     "text": [
      "The book 'Harry Potter' has been returned.\n"
     ]
    }
   ],
   "source": [
    "book.return_book()"
   ]
  },
  {
   "cell_type": "code",
   "execution_count": 25,
   "metadata": {},
   "outputs": [
    {
     "data": {
      "text/plain": [
       "False"
      ]
     },
     "execution_count": 25,
     "metadata": {},
     "output_type": "execute_result"
    }
   ],
   "source": [
    "book.is_checked_out\n"
   ]
  },
  {
   "cell_type": "code",
   "execution_count": 26,
   "metadata": {},
   "outputs": [
    {
     "data": {
      "text/plain": [
       "0.5"
      ]
     },
     "execution_count": 26,
     "metadata": {},
     "output_type": "execute_result"
    }
   ],
   "source": [
    "3 / 6.0"
   ]
  },
  {
   "cell_type": "code",
   "execution_count": 27,
   "metadata": {},
   "outputs": [
    {
     "name": "stdout",
     "output_type": "stream",
     "text": [
      "5.0\n",
      "Cannot divide by zero\n",
      "Invalid input\n"
     ]
    }
   ],
   "source": [
    "def safe_divide(a, b):\n",
    "    try:\n",
    "        return a / b\n",
    "    except ZeroDivisionError:\n",
    "        return \"Cannot divide by zero\"\n",
    "    except TypeError:\n",
    "        return \"Invalid input\"\n",
    "\n",
    "print(safe_divide(10, 2))\n",
    "print(safe_divide(10, 0))\n",
    "print(safe_divide(10, \"a\"))\n",
    "\n"
   ]
  },
  {
   "cell_type": "code",
   "execution_count": null,
   "metadata": {},
   "outputs": [],
   "source": []
  }
 ],
 "metadata": {
  "kernelspec": {
   "display_name": "base",
   "language": "python",
   "name": "python3"
  },
  "language_info": {
   "codemirror_mode": {
    "name": "ipython",
    "version": 3
   },
   "file_extension": ".py",
   "mimetype": "text/x-python",
   "name": "python",
   "nbconvert_exporter": "python",
   "pygments_lexer": "ipython3",
   "version": "3.11.5"
  }
 },
 "nbformat": 4,
 "nbformat_minor": 2
}
