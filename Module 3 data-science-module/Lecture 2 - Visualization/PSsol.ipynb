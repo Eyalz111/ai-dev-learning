{
 "cells": [
  {
   "cell_type": "markdown",
   "metadata": {
    "vscode": {
     "languageId": "plaintext"
    }
   },
   "source": [
    "# Housing Problem Set"
   ]
  },
  {
   "cell_type": "markdown",
   "metadata": {},
   "source": []
  },
  {
   "cell_type": "code",
   "execution_count": 34,
   "metadata": {},
   "outputs": [],
   "source": [
    "# pip install seaborn\n",
    "# pip install matplotlib\n",
    "# pip install plotly"
   ]
  },
  {
   "cell_type": "code",
   "execution_count": 35,
   "metadata": {},
   "outputs": [],
   "source": [
    "import pandas as pd\n",
    "import seaborn as sns"
   ]
  },
  {
   "cell_type": "code",
   "execution_count": null,
   "metadata": {},
   "outputs": [],
   "source": [
    "# Load the dataset from a CSV file named 'dataset.csv' into a DataFrame called 'housing_df'.\n",
    "housing_df = pd.read_csv(\"dataset.csv\")\n",
    "housing_df\n",
    "\n"
   ]
  },
  {
   "cell_type": "code",
   "execution_count": null,
   "metadata": {},
   "outputs": [],
   "source": [
    "housing_df['SalePrice']"
   ]
  },
  {
   "cell_type": "markdown",
   "metadata": {},
   "source": [
    "# Histogram"
   ]
  },
  {
   "cell_type": "code",
   "execution_count": null,
   "metadata": {},
   "outputs": [],
   "source": [
    "# Create a histogram of the 'SalePrice' column from the housing_df DataFrame.\n",
    "import matplotlib.pyplot as plt\n",
    "\n",
    "plt.figure(figsize=(10, 6))\n",
    "plt.hist(housing_df['SalePrice'], bins=30, color='blue', edgecolor='black')\n",
    "plt.title('Distribution of House Sale Prices')\n",
    "plt.xlabel('Sale Price')\n",
    "plt.ylabel('Frequency')\n",
    "plt.grid(True)\n",
    "plt.show()\n"
   ]
  },
  {
   "cell_type": "markdown",
   "metadata": {},
   "source": [
    "## Bar Chart\n"
   ]
  },
  {
   "cell_type": "code",
   "execution_count": null,
   "metadata": {},
   "outputs": [],
   "source": [
    "# How to create a bar chart of the average 'SalePrice' for each 'Neighborhood' in the housing_df DataFrame?\n",
    "average_prices = housing_df.groupby('Neighborhood')['SalePrice'].mean().sort_values(ascending=False)\n",
    "plt.figure(figsize=(12, 8))\n",
    "average_prices.plot(kind='bar', color='skyblue', edgecolor='black')\n",
    "plt.title('Average Sale Price by Neighborhood')\n",
    "plt.xlabel('Neighborhood')\n",
    "plt.ylabel('Average Sale Price')\n",
    "plt.xticks(rotation=45)\n",
    "plt.grid(axis='y')\n",
    "plt.show()\n"
   ]
  },
  {
   "cell_type": "markdown",
   "metadata": {},
   "source": [
    "## Pie Chart"
   ]
  },
  {
   "cell_type": "code",
   "execution_count": null,
   "metadata": {},
   "outputs": [],
   "source": [
    "# How to create a pie chart showing the proportion of houses in each 'Neighborhood' in the housing_df DataFrame?\n",
    "\n",
    "# Combine smaller categories into 'Other' to reduce the number of categories\n",
    "neighborhood_counts = housing_df['Neighborhood'].value_counts()\n",
    "top_categories = neighborhood_counts.nlargest(4)  # Select the top 4 categories\n",
    "other_count = neighborhood_counts.sum() - top_categories.sum()  # Calculate the sum of the remaining categories\n",
    "neighborhood_counts_reduced = pd.concat([top_categories, pd.Series({'Other': other_count})])\n",
    "\n",
    "plt.figure(figsize=(10, 7))\n",
    "neighborhood_counts_reduced.plot(kind='pie', autopct='%1.1f%%', startangle=140, colors=plt.cm.Paired.colors)\n",
    "plt.title('Proportion of Houses in Each Neighborhood (Top 4 + Other)')\n",
    "plt.ylabel('')  # Hide the y-label\n",
    "plt.show()\n"
   ]
  },
  {
   "cell_type": "markdown",
   "metadata": {},
   "source": [
    "## Box Plot"
   ]
  },
  {
   "cell_type": "code",
   "execution_count": null,
   "metadata": {},
   "outputs": [],
   "source": [
    "\n",
    "# How to create a boxplot to visualize the distribution of 'SalePrice' in the housing_df DataFrame?\n",
    "plt.figure(figsize=(10, 6))\n",
    "sns.boxplot(data=housing_df, y='SalePrice')\n",
    "plt.title('Distribution of Sale Prices')\n",
    "plt.ylabel('Sale Price')\n",
    "plt.grid(axis='y')\n",
    "plt.show()\n",
    "\n"
   ]
  },
  {
   "cell_type": "markdown",
   "metadata": {},
   "source": [
    "## Scatter Plot\n"
   ]
  },
  {
   "cell_type": "code",
   "execution_count": null,
   "metadata": {},
   "outputs": [],
   "source": [
    "# How to create a scatter plot to visualize the relationship between 'GrLivArea' and 'SalePrice' in the housing_df DataFrame?\n",
    "plt.figure(figsize=(10, 6))\n",
    "sns.scatterplot(data=housing_df, x='GrLivArea', y='SalePrice')\n",
    "plt.title('Scatter Plot of Sale Price vs. Ground Living Area')\n",
    "plt.xlabel('Ground Living Area (sq ft)')\n",
    "plt.ylabel('Sale Price')\n",
    "plt.grid(True)\n",
    "plt.show()\n",
    "\n"
   ]
  },
  {
   "cell_type": "code",
   "execution_count": null,
   "metadata": {},
   "outputs": [],
   "source": [
    "\n",
    "# How to create a scatter plot to visualize the relationship between 'GrLivArea' and 'SalePrice' in the housing_df DataFrame,\n",
    "# with colors representing fewer 'Neighborhood' categories?\n",
    "# Filter the DataFrame to include only the top 4 neighborhoods by count\n",
    "top_neighborhoods = housing_df['Neighborhood'].value_counts().nlargest(4).index\n",
    "filtered_df = housing_df[housing_df['Neighborhood'].isin(top_neighborhoods)]\n",
    "\n",
    "plt.figure(figsize=(10, 6))\n",
    "sns.scatterplot(data=filtered_df, x='GrLivArea', y='SalePrice', hue='Neighborhood', palette='tab10')\n",
    "plt.title('Scatter Plot of Sale Price vs. Ground Living Area by Top Neighborhoods')\n",
    "plt.xlabel('Ground Living Area (sq ft)')\n",
    "plt.ylabel('Sale Price')\n",
    "plt.legend(title='Neighborhood', bbox_to_anchor=(1.05, 1), loc='upper left')\n",
    "plt.grid(True)\n",
    "plt.show()\n",
    "\n"
   ]
  },
  {
   "cell_type": "code",
   "execution_count": null,
   "metadata": {},
   "outputs": [],
   "source": [
    "\n",
    "# Dynamic Bubble Chart: Create an interactive bubble chart to visualize the relationship between 'GrLivArea', 'SalePrice', and 'OverallQual' in the housing_df DataFrame.\n",
    "# The size of the bubbles should represent 'OverallQual'. Add dynamic interaction for 'YrSold'.\n",
    "\n",
    "import plotly.express as px\n",
    "\n",
    "# Filter the DataFrame to include only the top 4 neighborhoods by average SalePrice\n",
    "top_neighborhoods = housing_df.groupby('Neighborhood')['SalePrice'].mean().nlargest(4).index\n",
    "filtered_df = housing_df[housing_df['Neighborhood'].isin(top_neighborhoods)]\n",
    "\n",
    "# Sort the DataFrame by 'YrSold' in ascending order\n",
    "filtered_df = filtered_df.sort_values(by='YrSold')\n",
    "\n",
    "# Create the bubble chart with reduced scale and dynamic interaction for 'YrSold'\n",
    "fig = px.scatter(filtered_df, x='GrLivArea', y='SalePrice', \n",
    "                 size='OverallQual', color='Neighborhood',\n",
    "                 hover_name='Neighborhood', size_max=30,  # Reduced size_max from 60 to 30\n",
    "                 animation_frame='YrSold',  # Add dynamic interaction for 'YrSold'\n",
    "                 title='Dynamic Bubble Chart: GrLivArea vs SalePrice with OverallQual as Bubble Size and Year Sold')\n",
    "\n",
    "# Show the interactive plot\n",
    "fig.show()"
   ]
  },
  {
   "cell_type": "markdown",
   "metadata": {},
   "source": [
    "## Box Plot"
   ]
  },
  {
   "cell_type": "code",
   "execution_count": null,
   "metadata": {},
   "outputs": [],
   "source": [
    "# How can you create a box plot to visualize the distribution of 'SalePrice' across different 'Neighborhood' categories?\n",
    "# Calculate the median SalePrice for each Neighborhood\n",
    "median_saleprice = housing_df.groupby('Neighborhood')['SalePrice'].median().sort_values(ascending=False)\n",
    "\n",
    "# Create a box plot sorted by the median SalePrice in descending order\n",
    "plt.figure(figsize=(12, 8))\n",
    "sns.boxplot(data=housing_df, x='Neighborhood', y='SalePrice', order=median_saleprice.index)\n",
    "plt.title('Box Plot of Sale Price by Neighborhood (Sorted by Median in Descending Order)')\n",
    "plt.xlabel('Neighborhood')\n",
    "plt.ylabel('Sale Price')\n",
    "plt.xticks(rotation=45)\n",
    "plt.grid(True)\n",
    "plt.show()\n"
   ]
  },
  {
   "cell_type": "markdown",
   "metadata": {},
   "source": [
    "## Grouped Bar Chart"
   ]
  },
  {
   "cell_type": "code",
   "execution_count": null,
   "metadata": {},
   "outputs": [],
   "source": [
    "\n",
    "# How can you create a grouped bar chart to compare the average 'SalePrice' across fewer 'Neighborhood' categories for each 'BldgType'?\n",
    "# Filter the DataFrame to include only the top 3 neighborhoods by count\n",
    "top_neighborhoods = housing_df['Neighborhood'].value_counts().nlargest(3).index\n",
    "filtered_df = housing_df[housing_df['Neighborhood'].isin(top_neighborhoods)]\n",
    "\n",
    "# Calculate the average SalePrice for each combination of Neighborhood and BldgType\n",
    "avg_saleprice = filtered_df.groupby(['Neighborhood', 'BldgType'])['SalePrice'].mean().unstack()\n",
    "\n",
    "# Create a grouped bar chart\n",
    "avg_saleprice.plot(kind='bar', figsize=(14, 7))\n",
    "plt.title('Average Sale Price by Top Neighborhoods and Building Type')\n",
    "plt.xlabel('Neighborhood')\n",
    "plt.ylabel('Average Sale Price')\n",
    "plt.xticks(rotation=45)\n",
    "plt.legend(title='Building Type')\n",
    "plt.grid(True)\n",
    "plt.show()\n",
    "\n",
    "\n"
   ]
  },
  {
   "cell_type": "markdown",
   "metadata": {},
   "source": [
    "## Line Chart"
   ]
  },
  {
   "cell_type": "code",
   "execution_count": null,
   "metadata": {},
   "outputs": [],
   "source": [
    "\n",
    "# Example: Create a line chart to visualize the average 'SalePrice' over time\n",
    "plt.figure(figsize=(12, 6))\n",
    "housing_df['YearBuilt'] = pd.to_datetime(housing_df['YearBuilt'], format='%Y')\n",
    "avg_saleprice_by_year = housing_df.groupby(housing_df['YearBuilt'].dt.year)['SalePrice'].mean()\n",
    "plt.plot(avg_saleprice_by_year.index, avg_saleprice_by_year.values, marker='o')\n",
    "plt.title('Average Sale Price Over Time')\n",
    "plt.xlabel('Year Built')\n",
    "plt.ylabel('Average Sale Price')\n",
    "plt.grid(True)\n",
    "plt.show()\n",
    "\n",
    "\n"
   ]
  }
 ],
 "metadata": {
  "kernelspec": {
   "display_name": "base",
   "language": "python",
   "name": "python3"
  },
  "language_info": {
   "codemirror_mode": {
    "name": "ipython",
    "version": 3
   },
   "file_extension": ".py",
   "mimetype": "text/x-python",
   "name": "python",
   "nbconvert_exporter": "python",
   "pygments_lexer": "ipython3",
   "version": "3.11.5"
  }
 },
 "nbformat": 4,
 "nbformat_minor": 2
}
