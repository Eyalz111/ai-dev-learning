{
 "cells": [
  {
   "cell_type": "markdown",
   "metadata": {
    "vscode": {
     "languageId": "plaintext"
    }
   },
   "source": [
    "# Housing Problem Set"
   ]
  },
  {
   "cell_type": "markdown",
   "metadata": {},
   "source": []
  },
  {
   "cell_type": "code",
   "execution_count": 55,
   "metadata": {},
   "outputs": [],
   "source": [
    "# pip install pandas\n",
    "import pandas as pd"
   ]
  },
  {
   "cell_type": "code",
   "execution_count": 56,
   "metadata": {},
   "outputs": [],
   "source": [
    "# Load the dataset from a CSV file named 'dataset.csv' into a DataFrame called 'housing_df'.\n",
    "housing_df = pd.read_csv('dataset.csv')\n",
    "\n",
    "# Extract the 'SalePrice' column from the 'housing_df' DataFrame and store it in a variable named 'house_sale_price'.\n",
    "# This column contains the sale prices of the houses.\n",
    "house_sale_price = housing_df['SalePrice']\n"
   ]
  },
  {
   "cell_type": "code",
   "execution_count": 57,
   "metadata": {},
   "outputs": [
    {
     "data": {
      "text/plain": [
       "0       208500\n",
       "1       181500\n",
       "2       223500\n",
       "3       140000\n",
       "4       250000\n",
       "         ...  \n",
       "1455    175000\n",
       "1456    210000\n",
       "1457    266500\n",
       "1458    142125\n",
       "1459    147500\n",
       "Name: SalePrice, Length: 1460, dtype: int64"
      ]
     },
     "execution_count": 57,
     "metadata": {},
     "output_type": "execute_result"
    }
   ],
   "source": [
    "house_sale_price"
   ]
  },
  {
   "cell_type": "markdown",
   "metadata": {},
   "source": [
    "## Series Basics"
   ]
  },
  {
   "cell_type": "code",
   "execution_count": 58,
   "metadata": {},
   "outputs": [
    {
     "name": "stdout",
     "output_type": "stream",
     "text": [
      "Values:\n",
      " [208500 181500 223500 ... 266500 142125 147500]\n",
      "\n",
      "Index:\n",
      " RangeIndex(start=0, stop=1460, step=1)\n",
      "\n",
      "Name:\n",
      " SalePrice\n",
      "\n",
      "Data Type:\n",
      " int64\n"
     ]
    }
   ],
   "source": [
    "# What are the key properties to check for the 'house_sale_price' Series?\n",
    "print(\"Values:\\n\", house_sale_price.values)\n",
    "print(\"\\nIndex:\\n\", house_sale_price.index)\n",
    "print(\"\\nName:\\n\", house_sale_price.name)\n",
    "print(\"\\nData Type:\\n\", house_sale_price.dtype)\n"
   ]
  },
  {
   "cell_type": "markdown",
   "metadata": {},
   "source": [
    "## ACCESSING SERIES DATA\n"
   ]
  },
  {
   "cell_type": "code",
   "execution_count": 59,
   "metadata": {},
   "outputs": [
    {
     "data": {
      "text/plain": [
       "0       208500\n",
       "1       181500\n",
       "2       223500\n",
       "3       140000\n",
       "4       250000\n",
       "         ...  \n",
       "1455    175000\n",
       "1456    210000\n",
       "1457    266500\n",
       "1458    142125\n",
       "1459    147500\n",
       "Name: SalePrice, Length: 1460, dtype: int64"
      ]
     },
     "execution_count": 59,
     "metadata": {},
     "output_type": "execute_result"
    }
   ],
   "source": [
    "\n",
    "# How to access the first element of the 'house_sale_price' Series?\n",
    "house_sale_price\n"
   ]
  },
  {
   "cell_type": "code",
   "execution_count": 60,
   "metadata": {},
   "outputs": [
    {
     "data": {
      "text/plain": [
       "147500"
      ]
     },
     "execution_count": 60,
     "metadata": {},
     "output_type": "execute_result"
    }
   ],
   "source": [
    "# How to access the last element of the 'house_sale_price' Series?\n",
    "house_sale_price.iloc[-1]"
   ]
  },
  {
   "cell_type": "code",
   "execution_count": 61,
   "metadata": {},
   "outputs": [
    {
     "data": {
      "text/plain": [
       "0    208500\n",
       "1    181500\n",
       "2    223500\n",
       "3    140000\n",
       "4    250000\n",
       "Name: SalePrice, dtype: int64"
      ]
     },
     "execution_count": 61,
     "metadata": {},
     "output_type": "execute_result"
    }
   ],
   "source": [
    "# How to access the first 5 elements of the 'house_sale_price' Series?\n",
    "house_sale_price[:5]"
   ]
  },
  {
   "cell_type": "code",
   "execution_count": 62,
   "metadata": {},
   "outputs": [
    {
     "data": {
      "text/plain": [
       "10    129500\n",
       "11    345000\n",
       "12    144000\n",
       "13    279500\n",
       "14    157000\n",
       "Name: SalePrice, dtype: int64"
      ]
     },
     "execution_count": 62,
     "metadata": {},
     "output_type": "execute_result"
    }
   ],
   "source": [
    "# How to access the elements from index 10 to 15 of the 'house_sale_price' Series?\n",
    "house_sale_price[10:15]"
   ]
  },
  {
   "cell_type": "markdown",
   "metadata": {},
   "source": [
    "## SORTING FILTERING SERIES"
   ]
  },
  {
   "cell_type": "code",
   "execution_count": 63,
   "metadata": {},
   "outputs": [
    {
     "data": {
      "text/plain": [
       "178     501837\n",
       "440     555000\n",
       "691     755000\n",
       "769     538000\n",
       "803     582933\n",
       "898     611657\n",
       "1046    556581\n",
       "1169    625000\n",
       "1182    745000\n",
       "Name: SalePrice, dtype: int64"
      ]
     },
     "execution_count": 63,
     "metadata": {},
     "output_type": "execute_result"
    }
   ],
   "source": [
    "# Filter the 'house_sale_price' Series to only include prices greater than 500,000\n",
    "filtered_prices = house_sale_price[house_sale_price > 500000]\n",
    "filtered_prices"
   ]
  },
  {
   "cell_type": "code",
   "execution_count": 64,
   "metadata": {},
   "outputs": [
    {
     "data": {
      "text/plain": [
       "0       208500\n",
       "1       181500\n",
       "2       223500\n",
       "3       140000\n",
       "4       250000\n",
       "         ...  \n",
       "1455    175000\n",
       "1456    210000\n",
       "1457    266500\n",
       "1458    142125\n",
       "1459    147500\n",
       "Name: SalePrice, Length: 1345, dtype: int64"
      ]
     },
     "execution_count": 64,
     "metadata": {},
     "output_type": "execute_result"
    }
   ],
   "source": [
    "# Filter the 'house_sale_price' Series to only include prices less than 300,000\n",
    "filtered_prices_below_300k = house_sale_price[house_sale_price < 300000]\n",
    "filtered_prices_below_300k"
   ]
  },
  {
   "cell_type": "code",
   "execution_count": 65,
   "metadata": {},
   "outputs": [
    {
     "data": {
      "text/plain": [
       "6       307000\n",
       "11      345000\n",
       "20      325300\n",
       "27      306000\n",
       "35      309000\n",
       "         ...  \n",
       "1373    466500\n",
       "1388    377500\n",
       "1417    340000\n",
       "1437    394617\n",
       "1442    310000\n",
       "Name: SalePrice, Length: 106, dtype: int64"
      ]
     },
     "execution_count": 65,
     "metadata": {},
     "output_type": "execute_result"
    }
   ],
   "source": [
    "# Filter the 'house_sale_price' Series to only include prices between 300,000 and 500,000\n",
    "filtered_prices_between_300k_and_500k = house_sale_price[(house_sale_price >= 300000) & (house_sale_price <= 500000)]\n",
    "filtered_prices_between_300k_and_500k\n"
   ]
  },
  {
   "cell_type": "code",
   "execution_count": 66,
   "metadata": {},
   "outputs": [
    {
     "data": {
      "text/plain": [
       "0       208500\n",
       "1       181500\n",
       "2       223500\n",
       "3       140000\n",
       "4       250000\n",
       "         ...  \n",
       "1455    175000\n",
       "1456    210000\n",
       "1457    266500\n",
       "1458    142125\n",
       "1459    147500\n",
       "Name: SalePrice, Length: 1354, dtype: int64"
      ]
     },
     "execution_count": 66,
     "metadata": {},
     "output_type": "execute_result"
    }
   ],
   "source": [
    "# Filter the 'house_sale_price' Series to only include prices greater than 500,000 or less than 300,000\n",
    "filtered_prices_outside_300k_to_500k = house_sale_price[(house_sale_price > 500000) | (house_sale_price < 300000)]\n",
    "filtered_prices_outside_300k_to_500k\n"
   ]
  },
  {
   "cell_type": "code",
   "execution_count": 67,
   "metadata": {},
   "outputs": [
    {
     "data": {
      "text/plain": [
       "0        True\n",
       "1       False\n",
       "2       False\n",
       "3       False\n",
       "4       False\n",
       "        ...  \n",
       "1455    False\n",
       "1456    False\n",
       "1457    False\n",
       "1458    False\n",
       "1459    False\n",
       "Name: SalePrice, Length: 1460, dtype: bool"
      ]
     },
     "execution_count": 67,
     "metadata": {},
     "output_type": "execute_result"
    }
   ],
   "source": [
    "\n",
    "# How to check if specific prices are in the 'house_sale_price' Series?\n",
    "specific_prices = [208500, 300000, 500000]\n",
    "prices_in_series = house_sale_price.isin(specific_prices)\n",
    "prices_in_series\n",
    "\n",
    "\n"
   ]
  },
  {
   "cell_type": "code",
   "execution_count": 68,
   "metadata": {},
   "outputs": [
    {
     "data": {
      "text/plain": [
       "495      34900\n",
       "916      35311\n",
       "968      37900\n",
       "533      39300\n",
       "30       40000\n",
       "         ...  \n",
       "803     582933\n",
       "898     611657\n",
       "1169    625000\n",
       "1182    745000\n",
       "691     755000\n",
       "Name: SalePrice, Length: 1460, dtype: int64"
      ]
     },
     "execution_count": 68,
     "metadata": {},
     "output_type": "execute_result"
    }
   ],
   "source": [
    "\n",
    "# How to sort the 'house_sale_price' Series in ascending order?\n",
    "sorted_prices_ascending = house_sale_price.sort_values()\n",
    "sorted_prices_ascending"
   ]
  },
  {
   "cell_type": "code",
   "execution_count": 69,
   "metadata": {},
   "outputs": [
    {
     "data": {
      "text/plain": [
       "745     299800\n",
       "478     297000\n",
       "1316    295493\n",
       "304     295000\n",
       "1253    294000\n",
       "         ...  \n",
       "30       40000\n",
       "533      39300\n",
       "968      37900\n",
       "916      35311\n",
       "495      34900\n",
       "Name: SalePrice, Length: 1345, dtype: int64"
      ]
     },
     "execution_count": 69,
     "metadata": {},
     "output_type": "execute_result"
    }
   ],
   "source": [
    "\n",
    "# How to filter the 'house_sale_price' Series to only include prices less than 300,000 and then sort them in descending order?\n",
    "filtered_and_sorted_prices = house_sale_price[house_sale_price < 300000].sort_values(ascending=False)\n",
    "filtered_and_sorted_prices"
   ]
  },
  {
   "cell_type": "markdown",
   "metadata": {},
   "source": [
    "## Series Operation and String Methods"
   ]
  },
  {
   "cell_type": "markdown",
   "metadata": {},
   "source": []
  },
  {
   "cell_type": "code",
   "execution_count": 70,
   "metadata": {},
   "outputs": [
    {
     "data": {
      "text/plain": [
       "0       218500\n",
       "1       191500\n",
       "2       233500\n",
       "3       150000\n",
       "4       260000\n",
       "         ...  \n",
       "1455    185000\n",
       "1456    220000\n",
       "1457    276500\n",
       "1458    152125\n",
       "1459    157500\n",
       "Name: SalePrice, Length: 1460, dtype: int64"
      ]
     },
     "execution_count": 70,
     "metadata": {},
     "output_type": "execute_result"
    }
   ],
   "source": [
    "\n",
    "# How to add a constant value to each element in the 'house_sale_price' Series using a Pandas method?\n",
    "added_constant_prices = house_sale_price.add(10000)\n",
    "added_constant_prices\n",
    "\n"
   ]
  },
  {
   "cell_type": "code",
   "execution_count": 71,
   "metadata": {},
   "outputs": [
    {
     "data": {
      "text/plain": [
       "0       229350.0\n",
       "1       199650.0\n",
       "2       245850.0\n",
       "3       154000.0\n",
       "4       275000.0\n",
       "          ...   \n",
       "1455    192500.0\n",
       "1456    231000.0\n",
       "1457    293150.0\n",
       "1458    156337.5\n",
       "1459    162250.0\n",
       "Name: SalePrice, Length: 1460, dtype: float64"
      ]
     },
     "execution_count": 71,
     "metadata": {},
     "output_type": "execute_result"
    }
   ],
   "source": [
    "# How to multiply each element in the 'house_sale_price' Series by 1.1 using a Pandas method?\n",
    "multiplied_prices = house_sale_price.mul(1.1)\n",
    "multiplied_prices"
   ]
  },
  {
   "cell_type": "code",
   "execution_count": 72,
   "metadata": {},
   "outputs": [],
   "source": [
    "# The following line extracts the 'HouseStyle' column from the 'housing_df' DataFrame\n",
    "house_style_feature = housing_df['HouseStyle']"
   ]
  },
  {
   "cell_type": "code",
   "execution_count": 73,
   "metadata": {},
   "outputs": [
    {
     "data": {
      "text/plain": [
       "0       2STORY\n",
       "1       1STORY\n",
       "2       2STORY\n",
       "3       2STORY\n",
       "4       2STORY\n",
       "         ...  \n",
       "1455    2STORY\n",
       "1456    1STORY\n",
       "1457    2STORY\n",
       "1458    1STORY\n",
       "1459    1STORY\n",
       "Name: HouseStyle, Length: 1460, dtype: object"
      ]
     },
     "execution_count": 73,
     "metadata": {},
     "output_type": "execute_result"
    }
   ],
   "source": [
    "\n",
    "# How to convert all the house styles to uppercase?\n",
    "house_style_uppercase = house_style_feature.str.upper()\n",
    "house_style_uppercase"
   ]
  },
  {
   "cell_type": "code",
   "execution_count": 74,
   "metadata": {},
   "outputs": [
    {
     "data": {
      "text/plain": [
       "0       True\n",
       "1       True\n",
       "2       True\n",
       "3       True\n",
       "4       True\n",
       "        ... \n",
       "1455    True\n",
       "1456    True\n",
       "1457    True\n",
       "1458    True\n",
       "1459    True\n",
       "Name: HouseStyle, Length: 1460, dtype: bool"
      ]
     },
     "execution_count": 74,
     "metadata": {},
     "output_type": "execute_result"
    }
   ],
   "source": [
    "# How to check if each house style contains the substring 'Story'?\n",
    "contains_story = house_style_feature.str.contains('Story')\n",
    "contains_story"
   ]
  },
  {
   "cell_type": "code",
   "execution_count": 75,
   "metadata": {},
   "outputs": [
    {
     "data": {
      "text/plain": [
       "0          2Story\n",
       "1       One Story\n",
       "2          2Story\n",
       "3          2Story\n",
       "4          2Story\n",
       "          ...    \n",
       "1455       2Story\n",
       "1456    One Story\n",
       "1457       2Story\n",
       "1458    One Story\n",
       "1459    One Story\n",
       "Name: HouseStyle, Length: 1460, dtype: object"
      ]
     },
     "execution_count": 75,
     "metadata": {},
     "output_type": "execute_result"
    }
   ],
   "source": [
    "# How to replace '1Story' with 'One Story' in the house styles?\n",
    "replaced_house_style = house_style_feature.str.replace('1Story', 'One Story')\n",
    "replaced_house_style"
   ]
  },
  {
   "cell_type": "code",
   "execution_count": 76,
   "metadata": {},
   "outputs": [
    {
     "data": {
      "text/plain": [
       "0       6\n",
       "1       6\n",
       "2       6\n",
       "3       6\n",
       "4       6\n",
       "       ..\n",
       "1455    6\n",
       "1456    6\n",
       "1457    6\n",
       "1458    6\n",
       "1459    6\n",
       "Name: HouseStyle, Length: 1460, dtype: int64"
      ]
     },
     "execution_count": 76,
     "metadata": {},
     "output_type": "execute_result"
    }
   ],
   "source": [
    "# How to find the length of each house style string?    \n",
    "house_style_length = house_style_feature.str.len()\n",
    "house_style_length"
   ]
  },
  {
   "cell_type": "markdown",
   "metadata": {},
   "source": [
    "## Dataframe Basics\n"
   ]
  },
  {
   "cell_type": "code",
   "execution_count": 77,
   "metadata": {},
   "outputs": [
    {
     "name": "stdout",
     "output_type": "stream",
     "text": [
      "Shape of the DataFrame: (1460, 81)\n"
     ]
    }
   ],
   "source": [
    "# DataFrames have several key attributes:\n",
    "# - shape: the dimensions of the DataFrame (rows, columns)\n",
    "# - index: the labels of the rows\n",
    "# - columns: the labels of the columns\n",
    "# - axes: a list of the row and column labels\n",
    "# - dtypes: the data types of each column\n",
    "\n",
    "# Display the shape of the DataFrame\n",
    "print(\"Shape of the DataFrame:\", housing_df.shape)"
   ]
  },
  {
   "cell_type": "code",
   "execution_count": 78,
   "metadata": {},
   "outputs": [
    {
     "name": "stdout",
     "output_type": "stream",
     "text": [
      "Index of the DataFrame: RangeIndex(start=0, stop=1460, step=1)\n"
     ]
    }
   ],
   "source": [
    "# Display the index of the DataFrame\n",
    "print(\"Index of the DataFrame:\", housing_df.index)"
   ]
  },
  {
   "cell_type": "code",
   "execution_count": 79,
   "metadata": {},
   "outputs": [
    {
     "name": "stdout",
     "output_type": "stream",
     "text": [
      "Columns of the DataFrame: Index(['Id', 'MSSubClass', 'MSZoning', 'LotFrontage', 'LotArea', 'Street',\n",
      "       'Alley', 'LotShape', 'LandContour', 'Utilities', 'LotConfig',\n",
      "       'LandSlope', 'Neighborhood', 'Condition1', 'Condition2', 'BldgType',\n",
      "       'HouseStyle', 'OverallQual', 'OverallCond', 'YearBuilt', 'YearRemodAdd',\n",
      "       'RoofStyle', 'RoofMatl', 'Exterior1st', 'Exterior2nd', 'MasVnrType',\n",
      "       'MasVnrArea', 'ExterQual', 'ExterCond', 'Foundation', 'BsmtQual',\n",
      "       'BsmtCond', 'BsmtExposure', 'BsmtFinType1', 'BsmtFinSF1',\n",
      "       'BsmtFinType2', 'BsmtFinSF2', 'BsmtUnfSF', 'TotalBsmtSF', 'Heating',\n",
      "       'HeatingQC', 'CentralAir', 'Electrical', '1stFlrSF', '2ndFlrSF',\n",
      "       'LowQualFinSF', 'GrLivArea', 'BsmtFullBath', 'BsmtHalfBath', 'FullBath',\n",
      "       'HalfBath', 'BedroomAbvGr', 'KitchenAbvGr', 'KitchenQual',\n",
      "       'TotRmsAbvGrd', 'Functional', 'Fireplaces', 'FireplaceQu', 'GarageType',\n",
      "       'GarageYrBlt', 'GarageFinish', 'GarageCars', 'GarageArea', 'GarageQual',\n",
      "       'GarageCond', 'PavedDrive', 'WoodDeckSF', 'OpenPorchSF',\n",
      "       'EnclosedPorch', '3SsnPorch', 'ScreenPorch', 'PoolArea', 'PoolQC',\n",
      "       'Fence', 'MiscFeature', 'MiscVal', 'MoSold', 'YrSold', 'SaleType',\n",
      "       'SaleCondition', 'SalePrice'],\n",
      "      dtype='object')\n"
     ]
    }
   ],
   "source": [
    "# Display the columns of the DataFrame\n",
    "print(\"Columns of the DataFrame:\", housing_df.columns)"
   ]
  },
  {
   "cell_type": "code",
   "execution_count": 80,
   "metadata": {},
   "outputs": [
    {
     "name": "stdout",
     "output_type": "stream",
     "text": [
      "Axes of the DataFrame: [RangeIndex(start=0, stop=1460, step=1), Index(['Id', 'MSSubClass', 'MSZoning', 'LotFrontage', 'LotArea', 'Street',\n",
      "       'Alley', 'LotShape', 'LandContour', 'Utilities', 'LotConfig',\n",
      "       'LandSlope', 'Neighborhood', 'Condition1', 'Condition2', 'BldgType',\n",
      "       'HouseStyle', 'OverallQual', 'OverallCond', 'YearBuilt', 'YearRemodAdd',\n",
      "       'RoofStyle', 'RoofMatl', 'Exterior1st', 'Exterior2nd', 'MasVnrType',\n",
      "       'MasVnrArea', 'ExterQual', 'ExterCond', 'Foundation', 'BsmtQual',\n",
      "       'BsmtCond', 'BsmtExposure', 'BsmtFinType1', 'BsmtFinSF1',\n",
      "       'BsmtFinType2', 'BsmtFinSF2', 'BsmtUnfSF', 'TotalBsmtSF', 'Heating',\n",
      "       'HeatingQC', 'CentralAir', 'Electrical', '1stFlrSF', '2ndFlrSF',\n",
      "       'LowQualFinSF', 'GrLivArea', 'BsmtFullBath', 'BsmtHalfBath', 'FullBath',\n",
      "       'HalfBath', 'BedroomAbvGr', 'KitchenAbvGr', 'KitchenQual',\n",
      "       'TotRmsAbvGrd', 'Functional', 'Fireplaces', 'FireplaceQu', 'GarageType',\n",
      "       'GarageYrBlt', 'GarageFinish', 'GarageCars', 'GarageArea', 'GarageQual',\n",
      "       'GarageCond', 'PavedDrive', 'WoodDeckSF', 'OpenPorchSF',\n",
      "       'EnclosedPorch', '3SsnPorch', 'ScreenPorch', 'PoolArea', 'PoolQC',\n",
      "       'Fence', 'MiscFeature', 'MiscVal', 'MoSold', 'YrSold', 'SaleType',\n",
      "       'SaleCondition', 'SalePrice'],\n",
      "      dtype='object')]\n"
     ]
    }
   ],
   "source": [
    "# Display the axes of the DataFrame\n",
    "print(\"Axes of the DataFrame:\", housing_df.axes)"
   ]
  },
  {
   "cell_type": "code",
   "execution_count": 81,
   "metadata": {},
   "outputs": [
    {
     "name": "stdout",
     "output_type": "stream",
     "text": [
      "Data types of each column:\n",
      " Id                 int64\n",
      "MSSubClass         int64\n",
      "MSZoning          object\n",
      "LotFrontage      float64\n",
      "LotArea            int64\n",
      "                  ...   \n",
      "MoSold             int64\n",
      "YrSold             int64\n",
      "SaleType          object\n",
      "SaleCondition     object\n",
      "SalePrice          int64\n",
      "Length: 81, dtype: object\n"
     ]
    }
   ],
   "source": [
    "# Display the data types of each column in the DataFrame\n",
    "print(\"Data types of each column:\\n\", housing_df.dtypes)"
   ]
  },
  {
   "cell_type": "markdown",
   "metadata": {},
   "source": [
    "## Exploring Dataframes"
   ]
  },
  {
   "cell_type": "code",
   "execution_count": 82,
   "metadata": {},
   "outputs": [
    {
     "name": "stdout",
     "output_type": "stream",
     "text": [
      "First 5 rows of the DataFrame:\n",
      "    Id  MSSubClass MSZoning  LotFrontage  LotArea Street Alley LotShape  \\\n",
      "0   1          60       RL         65.0     8450   Pave   NaN      Reg   \n",
      "1   2          20       RL         80.0     9600   Pave   NaN      Reg   \n",
      "2   3          60       RL         68.0    11250   Pave   NaN      IR1   \n",
      "3   4          70       RL         60.0     9550   Pave   NaN      IR1   \n",
      "4   5          60       RL         84.0    14260   Pave   NaN      IR1   \n",
      "\n",
      "  LandContour Utilities  ... PoolArea PoolQC Fence MiscFeature MiscVal MoSold  \\\n",
      "0         Lvl    AllPub  ...        0    NaN   NaN         NaN       0      2   \n",
      "1         Lvl    AllPub  ...        0    NaN   NaN         NaN       0      5   \n",
      "2         Lvl    AllPub  ...        0    NaN   NaN         NaN       0      9   \n",
      "3         Lvl    AllPub  ...        0    NaN   NaN         NaN       0      2   \n",
      "4         Lvl    AllPub  ...        0    NaN   NaN         NaN       0     12   \n",
      "\n",
      "  YrSold  SaleType  SaleCondition  SalePrice  \n",
      "0   2008        WD         Normal     208500  \n",
      "1   2007        WD         Normal     181500  \n",
      "2   2008        WD         Normal     223500  \n",
      "3   2006        WD        Abnorml     140000  \n",
      "4   2008        WD         Normal     250000  \n",
      "\n",
      "[5 rows x 81 columns]\n"
     ]
    }
   ],
   "source": [
    "# Display the first few rows of the DataFrame to get a sense of the data\n",
    "print(\"First 5 rows of the DataFrame:\\n\", housing_df.head())"
   ]
  },
  {
   "cell_type": "code",
   "execution_count": 83,
   "metadata": {},
   "outputs": [
    {
     "name": "stdout",
     "output_type": "stream",
     "text": [
      "Last 5 rows of the DataFrame:\n",
      "         Id  MSSubClass MSZoning  LotFrontage  LotArea Street Alley LotShape  \\\n",
      "1455  1456          60       RL         62.0     7917   Pave   NaN      Reg   \n",
      "1456  1457          20       RL         85.0    13175   Pave   NaN      Reg   \n",
      "1457  1458          70       RL         66.0     9042   Pave   NaN      Reg   \n",
      "1458  1459          20       RL         68.0     9717   Pave   NaN      Reg   \n",
      "1459  1460          20       RL         75.0     9937   Pave   NaN      Reg   \n",
      "\n",
      "     LandContour Utilities  ... PoolArea PoolQC  Fence MiscFeature MiscVal  \\\n",
      "1455         Lvl    AllPub  ...        0    NaN    NaN         NaN       0   \n",
      "1456         Lvl    AllPub  ...        0    NaN  MnPrv         NaN       0   \n",
      "1457         Lvl    AllPub  ...        0    NaN  GdPrv        Shed    2500   \n",
      "1458         Lvl    AllPub  ...        0    NaN    NaN         NaN       0   \n",
      "1459         Lvl    AllPub  ...        0    NaN    NaN         NaN       0   \n",
      "\n",
      "     MoSold YrSold  SaleType  SaleCondition  SalePrice  \n",
      "1455      8   2007        WD         Normal     175000  \n",
      "1456      2   2010        WD         Normal     210000  \n",
      "1457      5   2010        WD         Normal     266500  \n",
      "1458      4   2010        WD         Normal     142125  \n",
      "1459      6   2008        WD         Normal     147500  \n",
      "\n",
      "[5 rows x 81 columns]\n"
     ]
    }
   ],
   "source": [
    "# Display the last few rows of the DataFrame to see the end of the data\n",
    "print(\"Last 5 rows of the DataFrame:\\n\", housing_df.tail())"
   ]
  },
  {
   "cell_type": "code",
   "execution_count": 84,
   "metadata": {},
   "outputs": [
    {
     "name": "stdout",
     "output_type": "stream",
     "text": [
      "Summary statistics of the DataFrame:\n",
      "                 Id   MSSubClass  LotFrontage        LotArea  OverallQual  \\\n",
      "count  1460.000000  1460.000000  1201.000000    1460.000000  1460.000000   \n",
      "mean    730.500000    56.897260    70.049958   10516.828082     6.099315   \n",
      "std     421.610009    42.300571    24.284752    9981.264932     1.382997   \n",
      "min       1.000000    20.000000    21.000000    1300.000000     1.000000   \n",
      "25%     365.750000    20.000000    59.000000    7553.500000     5.000000   \n",
      "50%     730.500000    50.000000    69.000000    9478.500000     6.000000   \n",
      "75%    1095.250000    70.000000    80.000000   11601.500000     7.000000   \n",
      "max    1460.000000   190.000000   313.000000  215245.000000    10.000000   \n",
      "\n",
      "       OverallCond    YearBuilt  YearRemodAdd   MasVnrArea   BsmtFinSF1  ...  \\\n",
      "count  1460.000000  1460.000000   1460.000000  1452.000000  1460.000000  ...   \n",
      "mean      5.575342  1971.267808   1984.865753   103.685262   443.639726  ...   \n",
      "std       1.112799    30.202904     20.645407   181.066207   456.098091  ...   \n",
      "min       1.000000  1872.000000   1950.000000     0.000000     0.000000  ...   \n",
      "25%       5.000000  1954.000000   1967.000000     0.000000     0.000000  ...   \n",
      "50%       5.000000  1973.000000   1994.000000     0.000000   383.500000  ...   \n",
      "75%       6.000000  2000.000000   2004.000000   166.000000   712.250000  ...   \n",
      "max       9.000000  2010.000000   2010.000000  1600.000000  5644.000000  ...   \n",
      "\n",
      "        WoodDeckSF  OpenPorchSF  EnclosedPorch    3SsnPorch  ScreenPorch  \\\n",
      "count  1460.000000  1460.000000    1460.000000  1460.000000  1460.000000   \n",
      "mean     94.244521    46.660274      21.954110     3.409589    15.060959   \n",
      "std     125.338794    66.256028      61.119149    29.317331    55.757415   \n",
      "min       0.000000     0.000000       0.000000     0.000000     0.000000   \n",
      "25%       0.000000     0.000000       0.000000     0.000000     0.000000   \n",
      "50%       0.000000    25.000000       0.000000     0.000000     0.000000   \n",
      "75%     168.000000    68.000000       0.000000     0.000000     0.000000   \n",
      "max     857.000000   547.000000     552.000000   508.000000   480.000000   \n",
      "\n",
      "          PoolArea       MiscVal       MoSold       YrSold      SalePrice  \n",
      "count  1460.000000   1460.000000  1460.000000  1460.000000    1460.000000  \n",
      "mean      2.758904     43.489041     6.321918  2007.815753  180921.195890  \n",
      "std      40.177307    496.123024     2.703626     1.328095   79442.502883  \n",
      "min       0.000000      0.000000     1.000000  2006.000000   34900.000000  \n",
      "25%       0.000000      0.000000     5.000000  2007.000000  129975.000000  \n",
      "50%       0.000000      0.000000     6.000000  2008.000000  163000.000000  \n",
      "75%       0.000000      0.000000     8.000000  2009.000000  214000.000000  \n",
      "max     738.000000  15500.000000    12.000000  2010.000000  755000.000000  \n",
      "\n",
      "[8 rows x 38 columns]\n"
     ]
    }
   ],
   "source": [
    "# Describe the DataFrame to get a summary of statistics for each column\n",
    "print(\"Summary statistics of the DataFrame:\\n\", housing_df.describe())"
   ]
  },
  {
   "cell_type": "markdown",
   "metadata": {},
   "source": [
    "## Accessing Data"
   ]
  },
  {
   "cell_type": "code",
   "execution_count": 85,
   "metadata": {},
   "outputs": [
    {
     "name": "stdout",
     "output_type": "stream",
     "text": [
      "Selected columns:\n",
      "    LotArea  SalePrice\n",
      "0     8450     208500\n",
      "1     9600     181500\n",
      "2    11250     223500\n",
      "3     9550     140000\n",
      "4    14260     250000\n"
     ]
    }
   ],
   "source": [
    "\n",
    "# Questions about the housing_df DataFrame:\n",
    "\n",
    "# 1. How can you select multiple columns, such as 'LotArea' and 'SalePrice', from the DataFrame?\n",
    "selected_columns = housing_df[['LotArea', 'SalePrice']]\n",
    "print(\"Selected columns:\\n\", selected_columns.head())\n"
   ]
  },
  {
   "cell_type": "code",
   "execution_count": 86,
   "metadata": {},
   "outputs": [
    {
     "name": "stdout",
     "output_type": "stream",
     "text": [
      "First 5 rows of the DataFrame:\n",
      "    Id  MSSubClass MSZoning  LotFrontage  LotArea Street Alley LotShape  \\\n",
      "0   1          60       RL         65.0     8450   Pave   NaN      Reg   \n",
      "1   2          20       RL         80.0     9600   Pave   NaN      Reg   \n",
      "2   3          60       RL         68.0    11250   Pave   NaN      IR1   \n",
      "3   4          70       RL         60.0     9550   Pave   NaN      IR1   \n",
      "4   5          60       RL         84.0    14260   Pave   NaN      IR1   \n",
      "\n",
      "  LandContour Utilities  ... PoolArea PoolQC Fence MiscFeature MiscVal MoSold  \\\n",
      "0         Lvl    AllPub  ...        0    NaN   NaN         NaN       0      2   \n",
      "1         Lvl    AllPub  ...        0    NaN   NaN         NaN       0      5   \n",
      "2         Lvl    AllPub  ...        0    NaN   NaN         NaN       0      9   \n",
      "3         Lvl    AllPub  ...        0    NaN   NaN         NaN       0      2   \n",
      "4         Lvl    AllPub  ...        0    NaN   NaN         NaN       0     12   \n",
      "\n",
      "  YrSold  SaleType  SaleCondition  SalePrice  \n",
      "0   2008        WD         Normal     208500  \n",
      "1   2007        WD         Normal     181500  \n",
      "2   2008        WD         Normal     223500  \n",
      "3   2006        WD        Abnorml     140000  \n",
      "4   2008        WD         Normal     250000  \n",
      "\n",
      "[5 rows x 81 columns]\n"
     ]
    }
   ],
   "source": [
    "\n",
    "# 2. How can you select the first 5 rows of the DataFrame using iloc?\n",
    "first_five_rows = housing_df.iloc[:5, :]\n",
    "print(\"First 5 rows of the DataFrame:\\n\", first_five_rows)"
   ]
  },
  {
   "cell_type": "code",
   "execution_count": 87,
   "metadata": {},
   "outputs": [
    {
     "name": "stdout",
     "output_type": "stream",
     "text": [
      "Selected columns:\n",
      "    LotArea  SalePrice\n",
      "0     8450     208500\n",
      "1     9600     181500\n",
      "2    11250     223500\n",
      "3     9550     140000\n",
      "4    14260     250000\n",
      "5    14115     143000\n",
      "6    10084     307000\n",
      "7    10382     200000\n",
      "8     6120     129900\n",
      "9     7420     118000\n"
     ]
    }
   ],
   "source": [
    "# 3. Display only the 'LotArea' and 'SalePrice' columns without filtering rows.\n",
    "selected_columns = housing_df.loc[:, ['LotArea', 'SalePrice']]\n",
    "print(\"Selected columns:\\n\", selected_columns.head(10))"
   ]
  },
  {
   "cell_type": "code",
   "execution_count": 88,
   "metadata": {},
   "outputs": [
    {
     "name": "stdout",
     "output_type": "stream",
     "text": [
      "Correlation matrix:\n",
      "                      Id  MSSubClass  LotFrontage   LotArea  OverallQual  \\\n",
      "Id             1.000000    0.011156    -0.010601 -0.033226    -0.028365   \n",
      "MSSubClass     0.011156    1.000000    -0.386347 -0.139781     0.032628   \n",
      "LotFrontage   -0.010601   -0.386347     1.000000  0.426095     0.251646   \n",
      "LotArea       -0.033226   -0.139781     0.426095  1.000000     0.105806   \n",
      "OverallQual   -0.028365    0.032628     0.251646  0.105806     1.000000   \n",
      "OverallCond    0.012609   -0.059316    -0.059213 -0.005636    -0.091932   \n",
      "YearBuilt     -0.012713    0.027850     0.123349  0.014228     0.572323   \n",
      "YearRemodAdd  -0.021998    0.040581     0.088866  0.013788     0.550684   \n",
      "MasVnrArea    -0.050298    0.022936     0.193458  0.104160     0.411876   \n",
      "BsmtFinSF1    -0.005024   -0.069836     0.233633  0.214103     0.239666   \n",
      "BsmtFinSF2    -0.005968   -0.065649     0.049900  0.111170    -0.059119   \n",
      "BsmtUnfSF     -0.007940   -0.140759     0.132644 -0.002618     0.308159   \n",
      "TotalBsmtSF   -0.015415   -0.238518     0.392075  0.260833     0.537808   \n",
      "1stFlrSF       0.010496   -0.251758     0.457181  0.299475     0.476224   \n",
      "2ndFlrSF       0.005590    0.307886     0.080177  0.050986     0.295493   \n",
      "LowQualFinSF  -0.044230    0.046474     0.038469  0.004779    -0.030429   \n",
      "GrLivArea      0.008273    0.074853     0.402797  0.263116     0.593007   \n",
      "BsmtFullBath   0.002289    0.003491     0.100949  0.158155     0.111098   \n",
      "BsmtHalfBath  -0.020155   -0.002333    -0.007234  0.048046    -0.040150   \n",
      "FullBath       0.005587    0.131608     0.198769  0.126031     0.550600   \n",
      "HalfBath       0.006784    0.177354     0.053532  0.014259     0.273458   \n",
      "BedroomAbvGr   0.037719   -0.023438     0.263170  0.119690     0.101676   \n",
      "KitchenAbvGr   0.002951    0.281721    -0.006069 -0.017784    -0.183882   \n",
      "TotRmsAbvGrd   0.027239    0.040380     0.352096  0.190015     0.427452   \n",
      "Fireplaces    -0.019772   -0.045569     0.266639  0.271364     0.396765   \n",
      "GarageYrBlt    0.000072    0.085072     0.070250 -0.024947     0.547766   \n",
      "GarageCars     0.016570   -0.040110     0.285691  0.154871     0.600671   \n",
      "GarageArea     0.017634   -0.098672     0.344997  0.180403     0.562022   \n",
      "WoodDeckSF    -0.029643   -0.012579     0.088521  0.171698     0.238923   \n",
      "OpenPorchSF   -0.000477   -0.006100     0.151972  0.084774     0.308819   \n",
      "EnclosedPorch  0.002889   -0.012037     0.010700 -0.018340    -0.113937   \n",
      "3SsnPorch     -0.046635   -0.043825     0.070029  0.020423     0.030371   \n",
      "ScreenPorch    0.001330   -0.026030     0.041383  0.043160     0.064886   \n",
      "PoolArea       0.057044    0.008283     0.206167  0.077672     0.065166   \n",
      "MiscVal       -0.006242   -0.007683     0.003368  0.038068    -0.031406   \n",
      "MoSold         0.021172   -0.013585     0.011200  0.001205     0.070815   \n",
      "YrSold         0.000712   -0.021407     0.007450 -0.014261    -0.027347   \n",
      "SalePrice     -0.021917   -0.084284     0.351799  0.263843     0.790982   \n",
      "\n",
      "               OverallCond  YearBuilt  YearRemodAdd  MasVnrArea  BsmtFinSF1  \\\n",
      "Id                0.012609  -0.012713     -0.021998   -0.050298   -0.005024   \n",
      "MSSubClass       -0.059316   0.027850      0.040581    0.022936   -0.069836   \n",
      "LotFrontage      -0.059213   0.123349      0.088866    0.193458    0.233633   \n",
      "LotArea          -0.005636   0.014228      0.013788    0.104160    0.214103   \n",
      "OverallQual      -0.091932   0.572323      0.550684    0.411876    0.239666   \n",
      "OverallCond       1.000000  -0.375983      0.073741   -0.128101   -0.046231   \n",
      "YearBuilt        -0.375983   1.000000      0.592855    0.315707    0.249503   \n",
      "YearRemodAdd      0.073741   0.592855      1.000000    0.179618    0.128451   \n",
      "MasVnrArea       -0.128101   0.315707      0.179618    1.000000    0.264736   \n",
      "BsmtFinSF1       -0.046231   0.249503      0.128451    0.264736    1.000000   \n",
      "BsmtFinSF2        0.040229  -0.049107     -0.067759   -0.072319   -0.050117   \n",
      "BsmtUnfSF        -0.136841   0.149040      0.181133    0.114442   -0.495251   \n",
      "TotalBsmtSF      -0.171098   0.391452      0.291066    0.363936    0.522396   \n",
      "1stFlrSF         -0.144203   0.281986      0.240379    0.344501    0.445863   \n",
      "2ndFlrSF          0.028942   0.010308      0.140024    0.174561   -0.137079   \n",
      "LowQualFinSF      0.025494  -0.183784     -0.062419   -0.069071   -0.064503   \n",
      "GrLivArea        -0.079686   0.199010      0.287389    0.390857    0.208171   \n",
      "BsmtFullBath     -0.054942   0.187599      0.119470    0.085310    0.649212   \n",
      "BsmtHalfBath      0.117821  -0.038162     -0.012337    0.026673    0.067418   \n",
      "FullBath         -0.194149   0.468271      0.439046    0.276833    0.058543   \n",
      "HalfBath         -0.060769   0.242656      0.183331    0.201444    0.004262   \n",
      "BedroomAbvGr      0.012980  -0.070651     -0.040581    0.102821   -0.107355   \n",
      "KitchenAbvGr     -0.087001  -0.174800     -0.149598   -0.037610   -0.081007   \n",
      "TotRmsAbvGrd     -0.057583   0.095589      0.191740    0.280682    0.044316   \n",
      "Fireplaces       -0.023820   0.147716      0.112581    0.249070    0.260011   \n",
      "GarageYrBlt      -0.324297   0.825667      0.642277    0.252691    0.153484   \n",
      "GarageCars       -0.185758   0.537850      0.420622    0.364204    0.224054   \n",
      "GarageArea       -0.151521   0.478954      0.371600    0.373066    0.296970   \n",
      "WoodDeckSF       -0.003334   0.224880      0.205726    0.159718    0.204306   \n",
      "OpenPorchSF      -0.032589   0.188686      0.226298    0.125703    0.111761   \n",
      "EnclosedPorch     0.070356  -0.387268     -0.193919   -0.110204   -0.102303   \n",
      "3SsnPorch         0.025504   0.031355      0.045286    0.018796    0.026451   \n",
      "ScreenPorch       0.054811  -0.050364     -0.038740    0.061466    0.062021   \n",
      "PoolArea         -0.001985   0.004950      0.005829    0.011723    0.140491   \n",
      "MiscVal           0.068777  -0.034383     -0.010286   -0.029815    0.003571   \n",
      "MoSold           -0.003511   0.012398      0.021490   -0.005965   -0.015727   \n",
      "YrSold            0.043950  -0.013618      0.035743   -0.008201    0.014359   \n",
      "SalePrice        -0.077856   0.522897      0.507101    0.477493    0.386420   \n",
      "\n",
      "               ...  WoodDeckSF  OpenPorchSF  EnclosedPorch  3SsnPorch  \\\n",
      "Id             ...   -0.029643    -0.000477       0.002889  -0.046635   \n",
      "MSSubClass     ...   -0.012579    -0.006100      -0.012037  -0.043825   \n",
      "LotFrontage    ...    0.088521     0.151972       0.010700   0.070029   \n",
      "LotArea        ...    0.171698     0.084774      -0.018340   0.020423   \n",
      "OverallQual    ...    0.238923     0.308819      -0.113937   0.030371   \n",
      "OverallCond    ...   -0.003334    -0.032589       0.070356   0.025504   \n",
      "YearBuilt      ...    0.224880     0.188686      -0.387268   0.031355   \n",
      "YearRemodAdd   ...    0.205726     0.226298      -0.193919   0.045286   \n",
      "MasVnrArea     ...    0.159718     0.125703      -0.110204   0.018796   \n",
      "BsmtFinSF1     ...    0.204306     0.111761      -0.102303   0.026451   \n",
      "BsmtFinSF2     ...    0.067898     0.003093       0.036543  -0.029993   \n",
      "BsmtUnfSF      ...   -0.005316     0.129005      -0.002538   0.020764   \n",
      "TotalBsmtSF    ...    0.232019     0.247264      -0.095478   0.037384   \n",
      "1stFlrSF       ...    0.235459     0.211671      -0.065292   0.056104   \n",
      "2ndFlrSF       ...    0.092165     0.208026       0.061989  -0.024358   \n",
      "LowQualFinSF   ...   -0.025444     0.018251       0.061081  -0.004296   \n",
      "GrLivArea      ...    0.247433     0.330224       0.009113   0.020643   \n",
      "BsmtFullBath   ...    0.175315     0.067341      -0.049911  -0.000106   \n",
      "BsmtHalfBath   ...    0.040161    -0.025324      -0.008555   0.035114   \n",
      "FullBath       ...    0.187703     0.259977      -0.115093   0.035353   \n",
      "HalfBath       ...    0.108080     0.199740      -0.095317  -0.004972   \n",
      "BedroomAbvGr   ...    0.046854     0.093810       0.041570  -0.024478   \n",
      "KitchenAbvGr   ...   -0.090130    -0.070091       0.037312  -0.024600   \n",
      "TotRmsAbvGrd   ...    0.165984     0.234192       0.004151  -0.006683   \n",
      "Fireplaces     ...    0.200019     0.169405      -0.024822   0.011257   \n",
      "GarageYrBlt    ...    0.224577     0.228425      -0.297003   0.023544   \n",
      "GarageCars     ...    0.226342     0.213569      -0.151434   0.035765   \n",
      "GarageArea     ...    0.224666     0.241435      -0.121777   0.035087   \n",
      "WoodDeckSF     ...    1.000000     0.058661      -0.125989  -0.032771   \n",
      "OpenPorchSF    ...    0.058661     1.000000      -0.093079  -0.005842   \n",
      "EnclosedPorch  ...   -0.125989    -0.093079       1.000000  -0.037305   \n",
      "3SsnPorch      ...   -0.032771    -0.005842      -0.037305   1.000000   \n",
      "ScreenPorch    ...   -0.074181     0.074304      -0.082864  -0.031436   \n",
      "PoolArea       ...    0.073378     0.060762       0.054203  -0.007992   \n",
      "MiscVal        ...   -0.009551    -0.018584       0.018361   0.000354   \n",
      "MoSold         ...    0.021011     0.071255      -0.028887   0.029474   \n",
      "YrSold         ...    0.022270    -0.057619      -0.009916   0.018645   \n",
      "SalePrice      ...    0.324413     0.315856      -0.128578   0.044584   \n",
      "\n",
      "               ScreenPorch  PoolArea   MiscVal    MoSold    YrSold  SalePrice  \n",
      "Id                0.001330  0.057044 -0.006242  0.021172  0.000712  -0.021917  \n",
      "MSSubClass       -0.026030  0.008283 -0.007683 -0.013585 -0.021407  -0.084284  \n",
      "LotFrontage       0.041383  0.206167  0.003368  0.011200  0.007450   0.351799  \n",
      "LotArea           0.043160  0.077672  0.038068  0.001205 -0.014261   0.263843  \n",
      "OverallQual       0.064886  0.065166 -0.031406  0.070815 -0.027347   0.790982  \n",
      "OverallCond       0.054811 -0.001985  0.068777 -0.003511  0.043950  -0.077856  \n",
      "YearBuilt        -0.050364  0.004950 -0.034383  0.012398 -0.013618   0.522897  \n",
      "YearRemodAdd     -0.038740  0.005829 -0.010286  0.021490  0.035743   0.507101  \n",
      "MasVnrArea        0.061466  0.011723 -0.029815 -0.005965 -0.008201   0.477493  \n",
      "BsmtFinSF1        0.062021  0.140491  0.003571 -0.015727  0.014359   0.386420  \n",
      "BsmtFinSF2        0.088871  0.041709  0.004940 -0.015211  0.031706  -0.011378  \n",
      "BsmtUnfSF        -0.012579 -0.035092 -0.023837  0.034888 -0.041258   0.214479  \n",
      "TotalBsmtSF       0.084489  0.126053 -0.018479  0.013196 -0.014969   0.613581  \n",
      "1stFlrSF          0.088758  0.131525 -0.021096  0.031372 -0.013604   0.605852  \n",
      "2ndFlrSF          0.040606  0.081487  0.016197  0.035164 -0.028700   0.319334  \n",
      "LowQualFinSF      0.026799  0.062157 -0.003793 -0.022174 -0.028921  -0.025606  \n",
      "GrLivArea         0.101510  0.170205 -0.002416  0.050240 -0.036526   0.708624  \n",
      "BsmtFullBath      0.023148  0.067616 -0.023047 -0.025361  0.067049   0.227122  \n",
      "BsmtHalfBath      0.032121  0.020025 -0.007367  0.032873 -0.046524  -0.016844  \n",
      "FullBath         -0.008106  0.049604 -0.014290  0.055872 -0.019669   0.560664  \n",
      "HalfBath          0.072426  0.022381  0.001290 -0.009050 -0.010269   0.284108  \n",
      "BedroomAbvGr      0.044300  0.070703  0.007767  0.046544 -0.036014   0.168213  \n",
      "KitchenAbvGr     -0.051613 -0.014525  0.062341  0.026589  0.031687  -0.135907  \n",
      "TotRmsAbvGrd      0.059383  0.083757  0.024763  0.036907 -0.034516   0.533723  \n",
      "Fireplaces        0.184530  0.095074  0.001409  0.046357 -0.024096   0.466929  \n",
      "GarageYrBlt      -0.075418 -0.014501 -0.032417  0.005337 -0.001014   0.486362  \n",
      "GarageCars        0.050494  0.020934 -0.043080  0.040522 -0.039117   0.640409  \n",
      "GarageArea        0.051412  0.061047 -0.027400  0.027974 -0.027378   0.623431  \n",
      "WoodDeckSF       -0.074181  0.073378 -0.009551  0.021011  0.022270   0.324413  \n",
      "OpenPorchSF       0.074304  0.060762 -0.018584  0.071255 -0.057619   0.315856  \n",
      "EnclosedPorch    -0.082864  0.054203  0.018361 -0.028887 -0.009916  -0.128578  \n",
      "3SsnPorch        -0.031436 -0.007992  0.000354  0.029474  0.018645   0.044584  \n",
      "ScreenPorch       1.000000  0.051307  0.031946  0.023217  0.010694   0.111447  \n",
      "PoolArea          0.051307  1.000000  0.029669 -0.033737 -0.059689   0.092404  \n",
      "MiscVal           0.031946  0.029669  1.000000 -0.006495  0.004906  -0.021190  \n",
      "MoSold            0.023217 -0.033737 -0.006495  1.000000 -0.145721   0.046432  \n",
      "YrSold            0.010694 -0.059689  0.004906 -0.145721  1.000000  -0.028923  \n",
      "SalePrice         0.111447  0.092404 -0.021190  0.046432 -0.028923   1.000000  \n",
      "\n",
      "[38 rows x 38 columns]\n"
     ]
    }
   ],
   "source": [
    "# 4. How can you calculate the correlation matrix for the DataFrame to understand relationships between numerical features?\n",
    "# use housing_df.select_dtypes(include=['number']) to select only numerical columns\n",
    "numerical_columns = housing_df.select_dtypes(include=['number'])\n",
    "correlation_matrix = numerical_columns.corr()\n",
    "print(\"Correlation matrix:\\n\", correlation_matrix)\n"
   ]
  },
  {
   "cell_type": "markdown",
   "metadata": {},
   "source": [
    "## Filtering DataFrames"
   ]
  },
  {
   "cell_type": "code",
   "execution_count": 89,
   "metadata": {},
   "outputs": [
    {
     "name": "stdout",
     "output_type": "stream",
     "text": [
      "Filtered data (SalePrice > 208500):\n",
      "     LotArea  SalePrice\n",
      "2     11250     223500\n",
      "4     14260     250000\n",
      "6     10084     307000\n",
      "11    11924     345000\n",
      "13    10652     279500\n"
     ]
    }
   ],
   "source": [
    "# How can you filter rows where 'SalePrice' is greater than 208500 and select only the 'LotArea' and 'SalePrice' columns?\n",
    "filtered_data_equal = housing_df.loc[housing_df['SalePrice'] > 208500, ['LotArea', 'SalePrice']]\n",
    "print(\"Filtered data (SalePrice > 208500):\\n\", filtered_data_equal.head())\n",
    "\n"
   ]
  },
  {
   "cell_type": "code",
   "execution_count": 90,
   "metadata": {},
   "outputs": [],
   "source": [
    "# How can you filter rows where 'YearRemodAdd' is equal to 2003 and select only the 'LotArea' and 'SalePrice' columns?\n",
    "filtered_data_lotarea = housing_df.loc[housing_df['YearRemodAdd'] == 2003, ['LotArea', 'SalePrice']]\n"
   ]
  },
  {
   "cell_type": "markdown",
   "metadata": {},
   "source": [
    "## Sorting DataFrames\n"
   ]
  },
  {
   "cell_type": "code",
   "execution_count": 91,
   "metadata": {},
   "outputs": [
    {
     "name": "stdout",
     "output_type": "stream",
     "text": [
      "Sorted DataFrame by SalePrice:\n",
      "         Id  MSSubClass MSZoning  LotFrontage  LotArea Street Alley LotShape  \\\n",
      "691    692          60       RL        104.0    21535   Pave   NaN      IR1   \n",
      "1182  1183          60       RL        160.0    15623   Pave   NaN      IR1   \n",
      "1169  1170          60       RL        118.0    35760   Pave   NaN      IR1   \n",
      "898    899          20       RL        100.0    12919   Pave   NaN      IR1   \n",
      "803    804          60       RL        107.0    13891   Pave   NaN      Reg   \n",
      "\n",
      "     LandContour Utilities  ... PoolArea PoolQC  Fence MiscFeature MiscVal  \\\n",
      "691          Lvl    AllPub  ...        0    NaN    NaN         NaN       0   \n",
      "1182         Lvl    AllPub  ...      555     Ex  MnPrv         NaN       0   \n",
      "1169         Lvl    AllPub  ...        0    NaN    NaN         NaN       0   \n",
      "898          Lvl    AllPub  ...        0    NaN    NaN         NaN       0   \n",
      "803          Lvl    AllPub  ...        0    NaN    NaN         NaN       0   \n",
      "\n",
      "     MoSold YrSold  SaleType  SaleCondition  SalePrice  \n",
      "691       1   2007        WD         Normal     755000  \n",
      "1182      7   2007        WD        Abnorml     745000  \n",
      "1169      7   2006        WD         Normal     625000  \n",
      "898       3   2010       New        Partial     611657  \n",
      "803       1   2009       New        Partial     582933  \n",
      "\n",
      "[5 rows x 81 columns]\n"
     ]
    }
   ],
   "source": [
    "# Sort the DataFrame 'housing_df' by the 'SalePrice' column in descending order\n",
    "sorted_housing_df = housing_df.sort_values(by='SalePrice', ascending=False)\n",
    "print(\"Sorted DataFrame by SalePrice:\\n\", sorted_housing_df.head())\n"
   ]
  },
  {
   "cell_type": "markdown",
   "metadata": {},
   "source": [
    "## Column Creation\n"
   ]
  },
  {
   "cell_type": "code",
   "execution_count": 92,
   "metadata": {},
   "outputs": [],
   "source": [
    "# Create a Boolean column 'is_expensive' where True if 'SalePrice' is greater than 200000\n",
    "housing_df['is_expensive'] = housing_df['SalePrice'] > 200000\n",
    "\n",
    "\n"
   ]
  },
  {
   "cell_type": "code",
   "execution_count": 93,
   "metadata": {},
   "outputs": [
    {
     "name": "stdout",
     "output_type": "stream",
     "text": [
      "DataFrame with new columns:\n",
      "    SalePrice  is_expensive  tax_amount\n",
      "0     208500          True     20850.0\n",
      "1     181500         False         0.0\n",
      "2     223500          True     22350.0\n",
      "3     140000         False         0.0\n",
      "4     250000          True     25000.0\n"
     ]
    }
   ],
   "source": [
    "# Create a new column 'tax_amount' where if 'is_expensive' is True, calculate tax as 0.1 * 'SalePrice', otherwise 0\n",
    "housing_df['tax_amount'] = housing_df['SalePrice'] * 0.1 * housing_df['is_expensive']\n",
    "\n",
    "print(\"DataFrame with new columns:\\n\", housing_df[['SalePrice', 'is_expensive', 'tax_amount']].head())\n"
   ]
  },
  {
   "cell_type": "markdown",
   "metadata": {},
   "source": [
    "## GroupBy"
   ]
  },
  {
   "cell_type": "code",
   "execution_count": 94,
   "metadata": {},
   "outputs": [
    {
     "name": "stdout",
     "output_type": "stream",
     "text": [
      "Average SalePrice by Neighborhood:\n",
      " Neighborhood\n",
      "Blmngtn    194870.882353\n",
      "Blueste    137500.000000\n",
      "BrDale     104493.750000\n",
      "BrkSide    124834.051724\n",
      "ClearCr    212565.428571\n",
      "Name: SalePrice, dtype: float64\n"
     ]
    }
   ],
   "source": [
    "\n",
    "# Question 1: How can you group the 'housing_df' DataFrame by 'Neighborhood' and calculate the average 'SalePrice' for each group?\n",
    "average_saleprice_by_neighborhood = housing_df.groupby('Neighborhood')['SalePrice'].mean()\n",
    "print(\"Average SalePrice by Neighborhood:\\n\", average_saleprice_by_neighborhood.head())\n"
   ]
  },
  {
   "cell_type": "code",
   "execution_count": 95,
   "metadata": {},
   "outputs": [
    {
     "name": "stdout",
     "output_type": "stream",
     "text": [
      "Total LotArea by YearBuilt:\n",
      " YearBuilt\n",
      "1872     5250\n",
      "1875     6342\n",
      "1880    48986\n",
      "1882    17671\n",
      "1885    22140\n",
      "Name: LotArea, dtype: int64\n"
     ]
    }
   ],
   "source": [
    "# Question 2: How can you group the 'housing_df' DataFrame by 'YearBuilt' and calculate the total 'LotArea' for each group?\n",
    "total_lotarea_by_yearbuilt = housing_df.groupby('YearBuilt')['LotArea'].sum()\n",
    "print(\"Total LotArea by YearBuilt:\\n\", total_lotarea_by_yearbuilt.head())"
   ]
  },
  {
   "cell_type": "markdown",
   "metadata": {},
   "source": [
    "## The AGG method"
   ]
  },
  {
   "cell_type": "code",
   "execution_count": 96,
   "metadata": {},
   "outputs": [
    {
     "name": "stdout",
     "output_type": "stream",
     "text": [
      "SalePrice Aggregation by BldgType:\n",
      "           SalePrice               \n",
      "                sum           mean\n",
      "BldgType                          \n",
      "1Fam      226631845  185763.807377\n",
      "2fmCon      3981400  128432.258065\n",
      "Duplex      6944136  133541.076923\n",
      "Twnhs       5844200  135911.627907\n",
      "TwnhsE     20743365  181959.342105\n"
     ]
    }
   ],
   "source": [
    "\n",
    "# Question: How can you group the 'housing_df' DataFrame by 'BldgType' and calculate both the sum and mean of 'SalePrice' for each group?\n",
    "saleprice_agg_by_bldgtype = housing_df.groupby('BldgType').agg({'SalePrice': ['sum', 'mean']})\n",
    "print(\"SalePrice Aggregation by BldgType:\\n\", saleprice_agg_by_bldgtype.head())\n",
    "\n",
    "\n"
   ]
  },
  {
   "cell_type": "code",
   "execution_count": 97,
   "metadata": {},
   "outputs": [
    {
     "name": "stdout",
     "output_type": "stream",
     "text": [
      "GrLivArea Aggregation by OverallQual:\n",
      "             GrLivArea      \n",
      "                  min   max\n",
      "OverallQual                \n",
      "1                 334   904\n",
      "2                 438   800\n",
      "3                 720  1733\n",
      "4                 520  2290\n",
      "5                 616  3086\n"
     ]
    }
   ],
   "source": [
    "# Question: How can you group the 'housing_df' DataFrame by 'OverallQual' and calculate the minimum and maximum 'GrLivArea' for each group?\n",
    "grlivarea_agg_by_overallqual = housing_df.groupby('OverallQual').agg({'GrLivArea': ['min', 'max']})\n",
    "print(\"GrLivArea Aggregation by OverallQual:\\n\", grlivarea_agg_by_overallqual.head())\n"
   ]
  },
  {
   "cell_type": "code",
   "execution_count": 98,
   "metadata": {},
   "outputs": [
    {
     "name": "stdout",
     "output_type": "stream",
     "text": [
      "SalePrice Aggregation by MSZoning:\n",
      "           saleprice_sum  saleprice_mean\n",
      "MSZoning                               \n",
      "C (all)          745280    74528.000000\n",
      "FV             13910914   214014.061538\n",
      "RH              2104934   131558.375000\n",
      "RL            219846749   191004.994787\n",
      "RM             27537069   126316.830275\n"
     ]
    }
   ],
   "source": [
    "# Group the 'housing_df' DataFrame by 'MSZoning' and calculate both the sum and mean of 'SalePrice' for each group\n",
    "saleprice_agg_by_mszoning = housing_df.groupby('MSZoning').agg(\n",
    "    saleprice_sum=('SalePrice', 'sum'),\n",
    "    saleprice_mean=('SalePrice', 'mean')\n",
    ")\n",
    "print(\"SalePrice Aggregation by MSZoning:\\n\", saleprice_agg_by_mszoning.head())\n"
   ]
  },
  {
   "cell_type": "markdown",
   "metadata": {},
   "source": [
    "## Pivot Table"
   ]
  },
  {
   "cell_type": "code",
   "execution_count": 99,
   "metadata": {},
   "outputs": [
    {
     "name": "stdout",
     "output_type": "stream",
     "text": [
      "Pivot Table of Average SalePrice by Neighborhood and HouseStyle:\n",
      " HouseStyle           1.5Fin    1.5Unf         1Story  2.5Fin    2.5Unf  \\\n",
      "Neighborhood                                                             \n",
      "Blmngtn                 NaN       NaN  194870.882353     NaN       NaN   \n",
      "Blueste                 NaN       NaN            NaN     NaN       NaN   \n",
      "BrDale                  NaN       NaN            NaN     NaN       NaN   \n",
      "BrkSide       140924.000000  118750.0   89985.000000     NaN  214500.0   \n",
      "ClearCr       206405.333333       NaN  223681.818182     NaN       NaN   \n",
      "\n",
      "HouseStyle           2Story  SFoyer      SLvl  \n",
      "Neighborhood                                   \n",
      "Blmngtn                 NaN     NaN       NaN  \n",
      "Blueste       137500.000000     NaN       NaN  \n",
      "BrDale        104493.750000     NaN       NaN  \n",
      "BrkSide       165095.833333     NaN       NaN  \n",
      "ClearCr       223487.500000     NaN  155000.0  \n"
     ]
    }
   ],
   "source": [
    "\n",
    "# Question: How can you create a pivot table from the 'housing_df' DataFrame that shows the average 'SalePrice' for each combination of 'Neighborhood' and 'HouseStyle'?\n",
    "pivot_table_avg_saleprice = housing_df.pivot_table(\n",
    "    values='SalePrice',\n",
    "    index='Neighborhood',\n",
    "    columns='HouseStyle',\n",
    "    aggfunc='mean'\n",
    ")\n",
    "print(\"Pivot Table of Average SalePrice by Neighborhood and HouseStyle:\\n\", pivot_table_avg_saleprice.head())\n",
    "\n"
   ]
  },
  {
   "cell_type": "code",
   "execution_count": null,
   "metadata": {},
   "outputs": [],
   "source": []
  }
 ],
 "metadata": {
  "kernelspec": {
   "display_name": "base",
   "language": "python",
   "name": "python3"
  },
  "language_info": {
   "codemirror_mode": {
    "name": "ipython",
    "version": 3
   },
   "file_extension": ".py",
   "mimetype": "text/x-python",
   "name": "python",
   "nbconvert_exporter": "python",
   "pygments_lexer": "ipython3",
   "version": "3.11.5"
  }
 },
 "nbformat": 4,
 "nbformat_minor": 2
}
