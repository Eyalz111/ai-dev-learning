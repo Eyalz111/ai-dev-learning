{
 "cells": [
  {
   "cell_type": "markdown",
   "metadata": {},
   "source": [
    "# SQLite3 Sample Code"
   ]
  },
  {
   "cell_type": "markdown",
   "metadata": {},
   "source": [
    "<div style=\"font-family: Arial, sans-serif; max-width: 1000px; margin: 0 auto; padding: 20px;\">\n",
    "\n",
    "<h1 style=\"color: #2563eb; text-align: center; border-bottom: 3px solid #3b82f6; padding-bottom: 10px;\">SQLite3 Functions and Methods Summary</h1>\n",
    "\n",
    "<div style=\"display: grid; grid-template-columns: 1fr 1fr; gap: 20px; margin: 30px 0;\">\n",
    "\n",
    "<div style=\"background: linear-gradient(135deg, #3b82f6, #1e40af); padding: 20px; border-radius: 12px; box-shadow: 0 4px 6px rgba(0,0,0,0.1);\">\n",
    "<h2 style=\"color: white; margin: 0 0 15px 0; font-size: 1.3em;\">🔗 Connection Methods</h2>\n",
    "<div style=\"background: rgba(255,255,255,0.1); padding: 15px; border-radius: 8px; margin: 10px 0;\">\n",
    "<code style=\"color: #fbbf24; font-weight: bold;\">sqlite3.connect(database_name)</code>\n",
    "<p style=\"color: white; margin: 5px 0 0 0; font-size: 0.9em;\">Creates connection to SQLite database file</p>\n",
    "</div>\n",
    "<div style=\"background: rgba(255,255,255,0.1); padding: 15px; border-radius: 8px; margin: 10px 0;\">\n",
    "<code style=\"color: #fbbf24; font-weight: bold;\">conn.cursor()</code>\n",
    "<p style=\"color: white; margin: 5px 0 0 0; font-size: 0.9em;\">Creates cursor object for executing SQL commands</p>\n",
    "</div>\n",
    "<div style=\"background: rgba(255,255,255,0.1); padding: 15px; border-radius: 8px; margin: 10px 0;\">\n",
    "<code style=\"color: #fbbf24; font-weight: bold;\">conn.commit()</code>\n",
    "<p style=\"color: white; margin: 5px 0 0 0; font-size: 0.9em;\">Saves changes to database (makes transactions permanent)</p>\n",
    "</div>\n",
    "<div style=\"background: rgba(255,255,255,0.1); padding: 15px; border-radius: 8px; margin: 10px 0;\">\n",
    "<code style=\"color: #fbbf24; font-weight: bold;\">conn.close()</code>\n",
    "<p style=\"color: white; margin: 5px 0 0 0; font-size: 0.9em;\">Closes database connection</p>\n",
    "</div>\n",
    "</div>\n",
    "\n",
    "<div style=\"background: linear-gradient(135deg, #10b981, #059669); padding: 20px; border-radius: 12px; box-shadow: 0 4px 6px rgba(0,0,0,0.1);\">\n",
    "<h2 style=\"color: white; margin: 0 0 15px 0; font-size: 1.3em;\">🎯 Cursor Methods</h2>\n",
    "<div style=\"background: rgba(255,255,255,0.1); padding: 15px; border-radius: 8px; margin: 10px 0;\">\n",
    "<code style=\"color: #fbbf24; font-weight: bold;\">cursor.execute(sql_query)</code>\n",
    "<p style=\"color: white; margin: 5px 0 0 0; font-size: 0.9em;\">Executes single SQL statement</p>\n",
    "</div>\n",
    "<div style=\"background: rgba(255,255,255,0.1); padding: 15px; border-radius: 8px; margin: 10px 0;\">\n",
    "<code style=\"color: #fbbf24; font-weight: bold;\">cursor.fetchall()</code>\n",
    "<p style=\"color: white; margin: 5px 0 0 0; font-size: 0.9em;\">Retrieves all rows from last executed query</p>\n",
    "</div>\n",
    "<div style=\"background: rgba(255,255,255,0.1); padding: 15px; border-radius: 8px; margin: 10px 0;\">\n",
    "<code style=\"color: #fbbf24; font-weight: bold;\">cursor.execute(sql_query, parameters)</code>\n",
    "<p style=\"color: white; margin: 5px 0 0 0; font-size: 0.9em;\">Executes parameterized query (prevents SQL injection)</p>\n",
    "</div>\n",
    "</div>\n",
    "\n",
    "</div>\n",
    "\n",
    "<div style=\"background: linear-gradient(135deg, #f59e0b, #d97706); padding: 20px; border-radius: 12px; box-shadow: 0 4px 6px rgba(0,0,0,0.1); margin: 20px 0;\">\n",
    "<h2 style=\"color: white; margin: 0 0 15px 0; font-size: 1.3em; text-align: center;\">🗃️ SQL Operations Demonstrated</h2>\n",
    "<div style=\"display: flex; flex-wrap: wrap; gap: 10px; justify-content: center;\">\n",
    "<span style=\"background: rgba(255,255,255,0.2); color: white; padding: 8px 15px; border-radius: 25px; font-weight: bold;\">CREATE TABLE</span>\n",
    "<span style=\"background: rgba(255,255,255,0.2); color: white; padding: 8px 15px; border-radius: 25px; font-weight: bold;\">INSERT INTO</span>\n",
    "<span style=\"background: rgba(255,255,255,0.2); color: white; padding: 8px 15px; border-radius: 25px; font-weight: bold;\">SELECT</span>\n",
    "<span style=\"background: rgba(255,255,255,0.2); color: white; padding: 8px 15px; border-radius: 25px; font-weight: bold;\">UPDATE</span>\n",
    "<span style=\"background: rgba(255,255,255,0.2); color: white; padding: 8px 15px; border-radius: 25px; font-weight: bold;\">DELETE</span>\n",
    "</div>\n",
    "</div>\n",
    "\n",
    "<div style=\"display: grid; grid-template-columns: 1fr 1fr; gap: 20px; margin: 30px 0;\">\n",
    "\n",
    "<div style=\"background: linear-gradient(135deg, #8b5cf6, #7c3aed); padding: 20px; border-radius: 12px; box-shadow: 0 4px 6px rgba(0,0,0,0.1);\">\n",
    "<h2 style=\"color: white; margin: 0 0 15px 0; font-size: 1.3em;\">⭐ Key Features Used</h2>\n",
    "<ul style=\"color: white; margin: 0; padding-left: 20px;\">\n",
    "<li style=\"margin: 8px 0;\"><strong>Primary Key with AUTOINCREMENT</strong> - Auto-generating unique IDs</li>\n",
    "<li style=\"margin: 8px 0;\"><strong>NOT NULL constraints</strong> - Ensuring required fields</li>\n",
    "<li style=\"margin: 8px 0;\"><strong>WHERE clauses</strong> - Filtering records</li>\n",
    "<li style=\"margin: 8px 0;\"><strong>Parameterized queries</strong> - Using <code style=\"color: #fbbf24;\">?</code> placeholders</li>\n",
    "<li style=\"margin: 8px 0;\"><strong>Context manager</strong> - Using <code style=\"color: #fbbf24;\">with</code> statement</li>\n",
    "</ul>\n",
    "</div>\n",
    "\n",
    "<div style=\"background: linear-gradient(135deg, #ef4444, #dc2626); padding: 20px; border-radius: 12px; box-shadow: 0 4px 6px rgba(0,0,0,0.1);\">\n",
    "<h2 style=\"color: white; margin: 0 0 15px 0; font-size: 1.3em;\">✅ Best Practices Shown</h2>\n",
    "<ul style=\"color: white; margin: 0; padding-left: 20px;\">\n",
    "<li style=\"margin: 8px 0;\">Always commit transactions after modifications</li>\n",
    "<li style=\"margin: 8px 0;\">Use parameterized queries to prevent SQL injection</li>\n",
    "<li style=\"margin: 8px 0;\">Close connections when finished</li>\n",
    "<li style=\"margin: 8px 0;\">Use context managers for automatic cleanup</li>\n",
    "</ul>\n",
    "</div>\n",
    "\n",
    "</div>\n",
    "\n",
    "</div>"
   ]
  },
  {
   "cell_type": "code",
   "execution_count": null,
   "metadata": {},
   "outputs": [],
   "source": [
    "import sqlite3\n",
    "print(\"SQLite3 module imported successfully!\")"
   ]
  },
  {
   "cell_type": "code",
   "execution_count": null,
   "metadata": {},
   "outputs": [],
   "source": [
    "# Connect to the SQLite database file 'example.db'. If the file does not exist, it will be created.\n",
    "conn = sqlite3.connect('example.db')\n",
    "# Create a cursor object which allows us to execute SQL commands and queries.\n",
    "cursor = conn.cursor()"
   ]
  },
  {
   "cell_type": "code",
   "execution_count": null,
   "metadata": {},
   "outputs": [],
   "source": [
    "# Creating a users table if it does not already exist.\n",
    "# The table will have three columns:\n",
    "#   - id: an auto-incrementing integer that serves as the primary key\n",
    "#   - name: a text field that cannot be null\n",
    "#   - age: an integer field that can be null\n",
    "cursor.execute('''\n",
    "CREATE TABLE IF NOT EXISTS users (\n",
    "    id INTEGER PRIMARY KEY AUTOINCREMENT,\n",
    "    name TEXT NOT NULL,\n",
    "    age INTEGER\n",
    ")\n",
    "''')\n",
    "# Commit the transaction to save the table creation in the database file.\n",
    "conn.commit()\n",
    "print(\"Table 'users' created successfully\")"
   ]
  },
  {
   "cell_type": "code",
   "execution_count": null,
   "metadata": {},
   "outputs": [],
   "source": [
    "# Insert data into the users table\n",
    "# The following two lines add two new users to the 'users' table:\n",
    "#   - The first line inserts a user named 'Alice' with age 25.\n",
    "#   - The second line inserts a user named 'Bob' with age 30.\n",
    "cursor.execute(\"INSERT INTO users (name, age) VALUES ('Alice', 25)\")\n",
    "cursor.execute(\"INSERT INTO users (name, age) VALUES ('Bob', 30)\")\n",
    "\n",
    "# Save (commit) the changes\n",
    "# Committing the transaction ensures that the above insertions are saved to the database file.\n",
    "conn.commit()\n",
    "print(\"Inserted 2 rows into the 'users' table\")"
   ]
  },
  {
   "cell_type": "code",
   "execution_count": null,
   "metadata": {},
   "outputs": [],
   "source": [
    "# Query the database to retrieve all rows from the users table.\n",
    "# This will select every column for every user currently stored in the 'users' table.\n",
    "cursor.execute(\"SELECT * FROM users\")\n",
    "\n",
    "# Fetch all results from the cursor.\n",
    "# The fetchall() method returns a list of tuples, where each tuple represents a row from the table.\n",
    "rows = cursor.fetchall()\n",
    "rows  # This line, when run in a Jupyter notebook cell, will display the list of rows as output.\n",
    "\n",
    "# Print the results.\n",
    "# This loop iterates over each row in the result set and prints it.\n",
    "# Each 'row' is a tuple containing the values for id, name, and age.\n",
    "for row in rows:\n",
    "    print(row)"
   ]
  },
  {
   "cell_type": "code",
   "execution_count": null,
   "metadata": {},
   "outputs": [],
   "source": [
    "rows"
   ]
  },
  {
   "cell_type": "code",
   "execution_count": null,
   "metadata": {},
   "outputs": [],
   "source": [
    "# Update Alice's age to 26 in the 'users' table.\n",
    "# This SQL command finds the row where the name is 'Alice' and sets her age to 26.\n",
    "cursor.execute(\"UPDATE users SET age = 26 WHERE name = 'Alice'\")\n",
    "\n",
    "# Commit the transaction to save the update to the database file.\n",
    "conn.commit()\n",
    "print(\"Updated Alice's age to 26\")\n",
    "\n",
    "# Verify the update by selecting Alice's record again.\n",
    "# This query retrieves all columns for the user named 'Alice' to confirm the age was updated.\n",
    "cursor.execute(\"SELECT * FROM users WHERE name = 'Alice'\")\n",
    "print(cursor.fetchall())  # This should show Alice's updated record with age 26."
   ]
  },
  {
   "cell_type": "code",
   "execution_count": null,
   "metadata": {},
   "outputs": [],
   "source": [
    "# Delete the record for Bob from the 'users' table.\n",
    "# This SQL command removes any row where the name column matches 'Bob'.\n",
    "cursor.execute(\"DELETE FROM users WHERE name = 'Bob'\")\n",
    "\n",
    "# Commit the transaction to save the deletion to the database file.\n",
    "# Without this, the deletion would not be persisted.\n",
    "conn.commit()\n",
    "print(\"Deleted Bob's record\")\n",
    "\n",
    "# Verify deletion by selecting all remaining records from the 'users' table.\n",
    "# This query fetches all rows to confirm that Bob's record has been removed.\n",
    "cursor.execute(\"SELECT * FROM users\")\n",
    "print(cursor.fetchall())\n"
   ]
  },
  {
   "cell_type": "code",
   "execution_count": null,
   "metadata": {},
   "outputs": [],
   "source": [
    "# New user data, perhaps coming from user input.\n",
    "# Here we define the name and age for the new user to be inserted into the database.\n",
    "new_name = \"Charlie\"\n",
    "new_age = 35\n",
    "\n",
    "# Use placeholders (?) in the SQL, and pass the values as a tuple.\n",
    "# This helps prevent SQL injection and allows dynamic insertion of values.\n",
    "cursor.execute(\"INSERT INTO users (name, age) VALUES (?, ?)\", (new_name, new_age))\n",
    "\n",
    "# Commit the transaction to save the new user to the database.\n",
    "conn.commit()\n",
    "print(f\"Inserted new user: {new_name}, age {new_age}\")\n",
    "\n",
    "# Check that the new record was inserted by selecting all records from the 'users' table.\n",
    "# This will print all rows, including the newly inserted user.\n",
    "cursor.execute(\"SELECT * FROM users\")\n",
    "print(cursor.fetchall())\n"
   ]
  },
  {
   "cell_type": "code",
   "execution_count": null,
   "metadata": {},
   "outputs": [],
   "source": [
    "# Close the database connection when done.\n",
    "# This is important to free up resources and ensure all transactions are properly finalized.\n",
    "conn.close()\n",
    "print(\"Database connection closed\")"
   ]
  },
  {
   "cell_type": "code",
   "execution_count": null,
   "metadata": {},
   "outputs": [],
   "source": [
    "# Using SQLite with a context manager (the 'with' statement) ensures that the database connection\n",
    "# is automatically closed when the block is exited, even if an error occurs. This eliminates the need\n",
    "# to explicitly call conn.close(), making the code safer and cleaner.\n",
    "with sqlite3.connect('example.db') as conn:\n",
    "    cursor = conn.cursor()\n",
    "    cursor.execute(\"SELECT * FROM users\")\n",
    "    print(cursor.fetchall())\n",
    "    # Connection automatically closed after this block"
   ]
  },
  {
   "cell_type": "markdown",
   "metadata": {},
   "source": []
  }
 ],
 "metadata": {
  "kernelspec": {
   "display_name": "Python 3",
   "language": "python",
   "name": "python3"
  },
  "language_info": {
   "codemirror_mode": {
    "name": "ipython",
    "version": 3
   },
   "file_extension": ".py",
   "mimetype": "text/x-python",
   "name": "python",
   "nbconvert_exporter": "python",
   "pygments_lexer": "ipython3",
   "version": "3.13.3"
  }
 },
 "nbformat": 4,
 "nbformat_minor": 2
}
