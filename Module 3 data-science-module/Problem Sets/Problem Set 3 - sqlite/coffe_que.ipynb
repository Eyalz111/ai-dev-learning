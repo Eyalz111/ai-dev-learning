{
 "cells": [
  {
   "cell_type": "markdown",
   "metadata": {},
   "source": [
    "📖 Scenario:\n",
    "At a small college called Coffee & Courses, students enroll in various majors and often enjoy drinks at the campus café. We'll create a database with two tables:\n",
    "\n",
    "students – Student details\n",
    "\n",
    "purchases – Drink purchase history at the café\n",
    "\n"
   ]
  },
  {
   "cell_type": "markdown",
   "metadata": {},
   "source": [
    "🧱 SQL: Create Tables & Insert Sample Data\n"
   ]
  },
  {
   "cell_type": "markdown",
   "metadata": {},
   "source": []
  },
  {
   "cell_type": "code",
   "execution_count": 1,
   "metadata": {},
   "outputs": [],
   "source": [
    "import sqlite3\n",
    "import pandas as pd"
   ]
  },
  {
   "cell_type": "code",
   "execution_count": 2,
   "metadata": {},
   "outputs": [],
   "source": [
    "# Create a connection to the SQLite3 database\n",
    "conn = sqlite3.connect('coffee_courses.db')\n",
    "cursor = conn.cursor()\n",
    "\n",
    "# Create Students Table\n",
    "# This table stores information about students.\n",
    "# Fields:\n",
    "# - student_id: A unique identifier for each student (Primary Key).\n",
    "# - name: The name of the student.\n",
    "# - major: The major subject the student is enrolled in.\n",
    "# - year: The current year of study for the student.\n",
    "cursor.execute('''\n",
    "CREATE TABLE IF NOT EXISTS students (\n",
    "  student_id INTEGER PRIMARY KEY,\n",
    "  name TEXT,\n",
    "  major TEXT,\n",
    "  year INTEGER\n",
    ");\n",
    "''')\n",
    "\n",
    "# Create Purchases Table\n",
    "# This table records the purchase history of drinks at the café.\n",
    "# Fields:\n",
    "# - purchase_id: A unique identifier for each purchase (Primary Key).\n",
    "# - student_id: The ID of the student who made the purchase (Foreign Key referencing students table).\n",
    "# - item: The name of the drink purchased.\n",
    "# - price: The cost of the drink.\n",
    "# - purchase_date: The date when the purchase was made.\n",
    "cursor.execute('''\n",
    "CREATE TABLE IF NOT EXISTS purchases (\n",
    "  purchase_id INTEGER PRIMARY KEY,\n",
    "  student_id INTEGER,\n",
    "  item TEXT,\n",
    "  price REAL,\n",
    "  purchase_date TEXT,\n",
    "  FOREIGN KEY(student_id) REFERENCES students(student_id)\n",
    ");\n",
    "''')\n",
    "\n",
    "# Insert Sample Students\n",
    "# Adding sample data to the students table.\n",
    "cursor.executemany('''\n",
    "INSERT INTO students (student_id, name, major, year) VALUES (?, ?, ?, ?)\n",
    "''', [\n",
    "    (1, 'Alice', 'Computer Science', 2),\n",
    "    (2, 'Bob', 'Economics', 3),\n",
    "    (3, 'Charlie', 'Psychology', 1),\n",
    "    (4, 'Dana', 'Computer Science', 3),\n",
    "    (5, 'Eli', 'Economics', 2)\n",
    "])\n",
    "\n",
    "# Insert Sample Purchases\n",
    "# Adding sample data to the purchases table.\n",
    "cursor.executemany('''\n",
    "INSERT INTO purchases (purchase_id, student_id, item, price, purchase_date) VALUES (?, ?, ?, ?, ?)\n",
    "''', [\n",
    "    (101, 1, 'Espresso', 2.5, '2025-05-20'),\n",
    "    (102, 1, 'Latte', 3.5, '2025-05-21'),\n",
    "    (103, 2, 'Cappuccino', 4.0, '2025-05-20'),\n",
    "    (104, 3, 'Tea', 2.0, '2025-05-22'),\n",
    "    (105, 4, 'Latte', 3.5, '2025-05-22'),\n",
    "    (106, 5, 'Espresso', 2.5, '2025-05-22'),\n",
    "    (107, 5, 'Latte', 3.5, '2025-05-23'),\n",
    "    (108, 4, 'Tea', 2.0, '2025-05-24')\n",
    "])\n",
    "\n",
    "# Commit the changes and close the connection\n",
    "conn.commit()\n"
   ]
  },
  {
   "cell_type": "markdown",
   "metadata": {},
   "source": [
    "🎓 SQL Exercises by Topic\n"
   ]
  },
  {
   "cell_type": "markdown",
   "metadata": {},
   "source": [
    "### 1.List all students in their 2nd year\n"
   ]
  },
  {
   "cell_type": "code",
   "execution_count": 3,
   "metadata": {},
   "outputs": [
    {
     "name": "stdout",
     "output_type": "stream",
     "text": [
      "   student_id   name             major  year\n",
      "0           1  Alice  Computer Science     2\n",
      "1           5    Eli         Economics     2\n"
     ]
    }
   ],
   "source": [
    "query = \"\"\"\n",
    "SELECT *\n",
    "FROM students\n",
    "WHERE year = 2\n",
    "\"\"\"\n",
    "df = pd.read_sql_query(query, conn)\n",
    "print(df)\n"
   ]
  },
  {
   "cell_type": "markdown",
   "metadata": {},
   "source": [
    "### 2.Which students are majoring in Computer Science?\n"
   ]
  },
  {
   "cell_type": "code",
   "execution_count": 5,
   "metadata": {},
   "outputs": [
    {
     "name": "stdout",
     "output_type": "stream",
     "text": [
      "   student_id   name             major  year\n",
      "0           1  Alice  Computer Science     2\n",
      "1           4   Dana  Computer Science     3\n"
     ]
    }
   ],
   "source": [
    "query = \"\"\"\n",
    "SELECT *\n",
    "FROM students\n",
    "WHERE major = 'Computer Science'\n",
    "\"\"\"\n",
    "df = pd.read_sql_query(query, conn)\n",
    "print(df)"
   ]
  },
  {
   "cell_type": "markdown",
   "metadata": {},
   "source": [
    "### 3.What purchases were made on '2025-05-22'?\n"
   ]
  },
  {
   "cell_type": "code",
   "execution_count": 9,
   "metadata": {},
   "outputs": [
    {
     "name": "stdout",
     "output_type": "stream",
     "text": [
      "       item\n",
      "0       Tea\n",
      "1     Latte\n",
      "2  Espresso\n"
     ]
    }
   ],
   "source": [
    "query = \"\"\"\n",
    "SELECT item\n",
    "FROM purchases\n",
    "WHERE purchase_date = '2025-05-22'\n",
    "\"\"\"\n",
    "df = pd.read_sql_query(query, conn)\n",
    "print(df)"
   ]
  },
  {
   "cell_type": "markdown",
   "metadata": {},
   "source": [
    "### 4. Which items cost more than 3?\n"
   ]
  },
  {
   "cell_type": "code",
   "execution_count": 10,
   "metadata": {},
   "outputs": [
    {
     "name": "stdout",
     "output_type": "stream",
     "text": [
      "         item\n",
      "0       Latte\n",
      "1  Cappuccino\n",
      "2       Latte\n",
      "3       Latte\n"
     ]
    }
   ],
   "source": [
    "query = \"\"\"\n",
    "SELECT item\n",
    "FROM purchases\n",
    "WHERE price > 3\n",
    "\"\"\"\n",
    "df = pd.read_sql_query(query, conn)\n",
    "print(df)"
   ]
  },
  {
   "cell_type": "markdown",
   "metadata": {},
   "source": [
    "### 5. Show each student's name and what they bought\n",
    "\n"
   ]
  },
  {
   "cell_type": "code",
   "execution_count": 11,
   "metadata": {},
   "outputs": [
    {
     "name": "stdout",
     "output_type": "stream",
     "text": [
      "      name        item\n",
      "0    Alice    Espresso\n",
      "1    Alice       Latte\n",
      "2      Bob  Cappuccino\n",
      "3  Charlie         Tea\n",
      "4     Dana       Latte\n",
      "5      Eli    Espresso\n",
      "6      Eli       Latte\n",
      "7     Dana         Tea\n"
     ]
    }
   ],
   "source": [
    "query = \"\"\"\n",
    "SELECT students.name, purchases.item\n",
    "FROM students\n",
    "JOIN purchases ON students.student_id = purchases.student_id\n",
    "\"\"\"\n",
    "df = pd.read_sql_query(query, conn)\n",
    "print(df)"
   ]
  },
  {
   "cell_type": "markdown",
   "metadata": {},
   "source": [
    "### 6. Who purchased a \"Latte\"?\n"
   ]
  },
  {
   "cell_type": "code",
   "execution_count": 17,
   "metadata": {},
   "outputs": [
    {
     "name": "stdout",
     "output_type": "stream",
     "text": [
      "    name   item\n",
      "0  Alice  Latte\n",
      "1   Dana  Latte\n",
      "2    Eli  Latte\n"
     ]
    }
   ],
   "source": [
    "query = \"\"\"\n",
    "SELECT students.name, purchases.item\n",
    "FROM students\n",
    "JOIN purchases ON students.student_id = purchases.student_id \n",
    "WHERE item = 'Latte'\n",
    "\"\"\"\n",
    "df = pd.read_sql_query(query, conn)\n",
    "print(df)"
   ]
  },
  {
   "cell_type": "markdown",
   "metadata": {},
   "source": [
    "### 7. Show each student’s name, major, and price of each purchase:\n",
    "\n",
    "\n"
   ]
  },
  {
   "cell_type": "code",
   "execution_count": 18,
   "metadata": {},
   "outputs": [
    {
     "name": "stdout",
     "output_type": "stream",
     "text": [
      "      name             major  price\n",
      "0    Alice  Computer Science    2.5\n",
      "1    Alice  Computer Science    3.5\n",
      "2      Bob         Economics    4.0\n",
      "3  Charlie        Psychology    2.0\n",
      "4     Dana  Computer Science    3.5\n",
      "5      Eli         Economics    2.5\n",
      "6      Eli         Economics    3.5\n",
      "7     Dana  Computer Science    2.0\n"
     ]
    }
   ],
   "source": [
    "query = \"\"\"\n",
    "SELECT students.name, students.major, purchases.price\n",
    "FROM students\n",
    "JOIN purchases ON students.student_id = purchases.student_id\n",
    "\"\"\"\n",
    "df = pd.read_sql_query(query, conn)\n",
    "print(df)"
   ]
  },
  {
   "cell_type": "markdown",
   "metadata": {},
   "source": [
    "### 8. How much has each student spent in total?\n",
    "\n",
    "\n",
    "\n",
    "\n"
   ]
  },
  {
   "cell_type": "code",
   "execution_count": 22,
   "metadata": {},
   "outputs": [
    {
     "name": "stdout",
     "output_type": "stream",
     "text": [
      "      name  SUM(purchases.price)\n",
      "0    Alice                   6.0\n",
      "1      Bob                   4.0\n",
      "2  Charlie                   2.0\n",
      "3     Dana                   5.5\n",
      "4      Eli                   6.0\n"
     ]
    }
   ],
   "source": [
    "query = \"\"\"\n",
    "SELECT students.name, SUM(purchases.price) \n",
    "FROM students\n",
    "JOIN purchases ON students.student_id = purchases.student_id\n",
    "GROUP BY students.name\n",
    "\"\"\"\n",
    "df = pd.read_sql_query(query, conn)\n",
    "print(df)"
   ]
  },
  {
   "cell_type": "markdown",
   "metadata": {},
   "source": [
    "### 9. How many purchases were made per drink type?\n",
    "\n",
    "\n",
    "\n",
    "\n",
    "\n"
   ]
  },
  {
   "cell_type": "code",
   "execution_count": 26,
   "metadata": {},
   "outputs": [
    {
     "name": "stdout",
     "output_type": "stream",
     "text": [
      "         item  COUNT(*)\n",
      "0  Cappuccino         1\n",
      "1    Espresso         2\n",
      "2       Latte         3\n",
      "3         Tea         2\n"
     ]
    }
   ],
   "source": [
    "query = \"\"\"\n",
    "SELECT purchases.item, COUNT(*)\n",
    "FROM purchases\n",
    "GROUP BY purchases.item\n",
    "\"\"\"\n",
    "df = pd.read_sql_query(query, conn)\n",
    "print(df)"
   ]
  },
  {
   "cell_type": "markdown",
   "metadata": {},
   "source": [
    "### 10. What is the average price of each drink?\n",
    "\n",
    "\n",
    "\n",
    "\n"
   ]
  },
  {
   "cell_type": "code",
   "execution_count": 32,
   "metadata": {},
   "outputs": [
    {
     "name": "stdout",
     "output_type": "stream",
     "text": [
      "         item  avg_price\n",
      "0  Cappuccino        4.0\n",
      "1    Espresso        2.5\n",
      "2       Latte        3.5\n",
      "3         Tea        2.0\n"
     ]
    }
   ],
   "source": [
    "query = \"\"\"\n",
    "SELECT item, AVG(price) as avg_price\n",
    "FROM purchases\n",
    "GROUP BY item\n",
    "\"\"\"\n",
    "df = pd.read_sql_query(query, conn)\n",
    "print(df)"
   ]
  },
  {
   "cell_type": "markdown",
   "metadata": {},
   "source": [
    "### 11. How many students are there in each major?\n",
    "\n",
    "\n",
    "\n",
    "\n"
   ]
  },
  {
   "cell_type": "code",
   "execution_count": 33,
   "metadata": {},
   "outputs": [
    {
     "name": "stdout",
     "output_type": "stream",
     "text": [
      "              major  COUNT(*)\n",
      "0  Computer Science         2\n",
      "1         Economics         2\n",
      "2        Psychology         1\n"
     ]
    }
   ],
   "source": [
    "query = \"\"\"\n",
    "SELECT students.major, COUNT(*)\n",
    "FROM students\n",
    "GROUP BY major\n",
    "\"\"\"\n",
    "df = pd.read_sql_query(query, conn)\n",
    "print(df)"
   ]
  },
  {
   "cell_type": "markdown",
   "metadata": {},
   "source": [
    "### 12. Which students spent more than 3 total?\n",
    "\n",
    "\n",
    "\n",
    "\n",
    "\n",
    "\n"
   ]
  },
  {
   "cell_type": "code",
   "execution_count": 35,
   "metadata": {},
   "outputs": [
    {
     "name": "stdout",
     "output_type": "stream",
     "text": [
      "    name  total_spent\n",
      "0  Alice          6.0\n",
      "1    Bob          4.0\n",
      "2   Dana          5.5\n",
      "3    Eli          6.0\n"
     ]
    }
   ],
   "source": [
    "query = \"\"\"\n",
    "SELECT students.name, SUM(purchases.price) as total_spent\n",
    "FROM students\n",
    "JOIN purchases ON students.student_id = purchases.student_id\n",
    "GROUP BY students.name\n",
    "HAVING total_spent > 3\n",
    "\"\"\"\n",
    "df = pd.read_sql_query(query, conn)\n",
    "print(df)"
   ]
  },
  {
   "cell_type": "markdown",
   "metadata": {},
   "source": [
    "### 13. Which drinks were purchased at least 3 times?\n",
    "\n",
    "\n",
    "\n",
    "\n"
   ]
  },
  {
   "cell_type": "code",
   "execution_count": 37,
   "metadata": {},
   "outputs": [
    {
     "name": "stdout",
     "output_type": "stream",
     "text": [
      "    item  purchase_count\n",
      "0  Latte               3\n"
     ]
    }
   ],
   "source": [
    "query = \"\"\"\n",
    "SELECT item, COUNT(*) as purchase_count\n",
    "FROM purchases\n",
    "GROUP BY item\n",
    "HAVING COUNT(*) >= 3\n",
    "\"\"\"\n",
    "df = pd.read_sql_query(query, conn)\n",
    "print(df)"
   ]
  },
  {
   "cell_type": "markdown",
   "metadata": {},
   "source": [
    "### 14. Show all purchases ordered by price (descending):\n",
    "\n",
    "\n",
    "\n",
    "\n",
    "\n",
    "\n"
   ]
  },
  {
   "cell_type": "code",
   "execution_count": 41,
   "metadata": {},
   "outputs": [
    {
     "name": "stdout",
     "output_type": "stream",
     "text": [
      "         item  price\n",
      "0  Cappuccino    4.0\n",
      "1       Latte    3.5\n",
      "2       Latte    3.5\n",
      "3       Latte    3.5\n",
      "4    Espresso    2.5\n",
      "5    Espresso    2.5\n",
      "6         Tea    2.0\n",
      "7         Tea    2.0\n"
     ]
    }
   ],
   "source": [
    "query = \"\"\"\n",
    "SELECT purchases.item, purchases.price\n",
    "FROM purchases\n",
    "ORDER BY price DESC\n",
    "\"\"\"\n",
    "df = pd.read_sql_query(query, conn)\n",
    "print(df)"
   ]
  },
  {
   "cell_type": "markdown",
   "metadata": {},
   "source": [
    "### 15. List student names sorted by academic year:\n",
    "\n",
    "\n",
    "\n",
    "\n",
    "\n"
   ]
  },
  {
   "cell_type": "code",
   "execution_count": 42,
   "metadata": {},
   "outputs": [
    {
     "name": "stdout",
     "output_type": "stream",
     "text": [
      "      name  year\n",
      "0  Charlie     1\n",
      "1    Alice     2\n",
      "2      Eli     2\n",
      "3      Bob     3\n",
      "4     Dana     3\n"
     ]
    }
   ],
   "source": [
    "query = \"\"\"\n",
    "SELECT students.name, students.year\n",
    "FROM students\n",
    "ORDER BY year\n",
    "\"\"\"\n",
    "df = pd.read_sql_query(query, conn)\n",
    "print(df)"
   ]
  },
  {
   "cell_type": "markdown",
   "metadata": {},
   "source": [
    "### 16. Show top 3 spenders:\n",
    "\n",
    "\n",
    "\n",
    "\n",
    "\n"
   ]
  },
  {
   "cell_type": "code",
   "execution_count": 47,
   "metadata": {},
   "outputs": [
    {
     "name": "stdout",
     "output_type": "stream",
     "text": [
      "    name  total spend\n",
      "0    Eli          6.0\n",
      "1  Alice          6.0\n",
      "2   Dana          5.5\n"
     ]
    }
   ],
   "source": [
    "query = \"\"\"\n",
    "SELECT students.name, SUM(purchases.price) as \"total spend\"\n",
    "FROM students\n",
    "JOIN purchases ON students.student_id = purchases.student_id\n",
    "GROUP BY students.name\n",
    "ORDER BY \"total spend\" DESC\n",
    "LIMIT 3\n",
    "\"\"\"\n",
    "df = pd.read_sql_query(query, conn)\n",
    "print(df)"
   ]
  },
  {
   "cell_type": "code",
   "execution_count": 48,
   "metadata": {},
   "outputs": [],
   "source": [
    "conn.close()"
   ]
  }
 ],
 "metadata": {
  "kernelspec": {
   "display_name": ".venv",
   "language": "python",
   "name": "python3"
  },
  "language_info": {
   "codemirror_mode": {
    "name": "ipython",
    "version": 3
   },
   "file_extension": ".py",
   "mimetype": "text/x-python",
   "name": "python",
   "nbconvert_exporter": "python",
   "pygments_lexer": "ipython3",
   "version": "3.13.2"
  }
 },
 "nbformat": 4,
 "nbformat_minor": 2
}
